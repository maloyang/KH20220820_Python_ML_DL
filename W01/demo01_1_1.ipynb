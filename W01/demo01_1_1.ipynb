{
  "cells": [
    {
      "cell_type": "markdown",
      "metadata": {
        "id": "-eykrvy45M57"
      },
      "source": [
        "# 基本語法練習"
      ]
    },
    {
      "cell_type": "markdown",
      "metadata": {
        "id": "LlmMoe2O5M6G"
      },
      "source": [
        "### Python 基本規則: 以縮排來區分程式區塊，並儘量使用「空白」\n",
        "[參考](https://python.swaroopch.com/basics.html)"
      ]
    },
    {
      "cell_type": "code",
      "execution_count": 2,
      "metadata": {
        "id": "LUrh2ZuR5M6K",
        "outputId": "05d92731-73c4-4add-a64c-e49bb4a399a5",
        "colab": {
          "base_uri": "https://localhost:8080/"
        }
      },
      "outputs": [
        {
          "output_type": "stream",
          "name": "stdout",
          "text": [
            "0 * 0 = 0\n",
            "1 * 1 = 1\n",
            "2 * 2 = 4\n",
            "3 * 3 = 9\n",
            "4 * 4 = 16\n"
          ]
        }
      ],
      "source": [
        "for i in range(5):\n",
        "    print(i, '*', i, '=', i*i)"
      ]
    },
    {
      "cell_type": "markdown",
      "metadata": {
        "id": "R52uRIFD5M6R"
      },
      "source": [
        "- 註解符號: #"
      ]
    },
    {
      "cell_type": "code",
      "execution_count": 4,
      "metadata": {
        "id": "GzmoQVLZ5M6S",
        "outputId": "59bf043c-1386-4eb5-d277-1d737ed6f34c",
        "colab": {
          "base_uri": "https://localhost:8080/"
        }
      },
      "outputs": [
        {
          "output_type": "stream",
          "name": "stdout",
          "text": [
            "hi~ A\n",
            "hi~ B\n"
          ]
        }
      ],
      "source": [
        "# 這一行是註解\n",
        "print('hi~ A')\n",
        "print('hi~ B')"
      ]
    },
    {
      "cell_type": "markdown",
      "metadata": {
        "id": "Gl6aM1y45M6V"
      },
      "source": [
        "### 運算符號\n",
        "[參考](https://python.swaroopch.com/op_exp.html)"
      ]
    },
    {
      "cell_type": "code",
      "execution_count": 5,
      "metadata": {
        "id": "VyAyrpd65M6Z",
        "outputId": "dc77da98-c170-463e-8c65-78a66b72bad9",
        "colab": {
          "base_uri": "https://localhost:8080/"
        }
      },
      "outputs": [
        {
          "output_type": "execute_result",
          "data": {
            "text/plain": [
              "15"
            ]
          },
          "metadata": {},
          "execution_count": 5
        }
      ],
      "source": [
        "# 加法\n",
        "3+12"
      ]
    },
    {
      "cell_type": "code",
      "execution_count": 6,
      "metadata": {
        "id": "xZyKkUhF5M6c",
        "outputId": "3cb069d5-4210-429b-df38-7e2697ebcbc4",
        "colab": {
          "base_uri": "https://localhost:8080/"
        }
      },
      "outputs": [
        {
          "output_type": "execute_result",
          "data": {
            "text/plain": [
              "41976"
            ]
          },
          "metadata": {},
          "execution_count": 6
        }
      ],
      "source": [
        "# 減法\n",
        "54321 - 12345"
      ]
    },
    {
      "cell_type": "code",
      "execution_count": 7,
      "metadata": {
        "id": "TJ1Pb0h35M6d",
        "outputId": "963c59ba-5d79-4f04-fec5-a4d78a1e97f6",
        "colab": {
          "base_uri": "https://localhost:8080/"
        }
      },
      "outputs": [
        {
          "output_type": "execute_result",
          "data": {
            "text/plain": [
              "39483"
            ]
          },
          "metadata": {},
          "execution_count": 7
        }
      ],
      "source": [
        "# 乘法\n",
        "123*321"
      ]
    },
    {
      "cell_type": "code",
      "execution_count": 8,
      "metadata": {
        "id": "2eEwZmHV5M6g",
        "outputId": "c49dcdba-2160-4f15-e21c-75078fa4f3cd",
        "colab": {
          "base_uri": "https://localhost:8080/"
        }
      },
      "outputs": [
        {
          "output_type": "execute_result",
          "data": {
            "text/plain": [
              "69.0"
            ]
          },
          "metadata": {},
          "execution_count": 8
        }
      ],
      "source": [
        "# 除法 --> 浮字點數\n",
        "345/5"
      ]
    },
    {
      "cell_type": "code",
      "execution_count": 9,
      "metadata": {
        "id": "tWlFOeVx5M6h",
        "outputId": "fa6cbc15-68ad-480e-a241-1ec395383ad5",
        "colab": {
          "base_uri": "https://localhost:8080/"
        }
      },
      "outputs": [
        {
          "output_type": "execute_result",
          "data": {
            "text/plain": [
              "9"
            ]
          },
          "metadata": {},
          "execution_count": 9
        }
      ],
      "source": [
        "# power\n",
        "3**2"
      ]
    },
    {
      "cell_type": "code",
      "execution_count": 10,
      "metadata": {
        "id": "4iYN6n205M6j",
        "outputId": "7de61c32-eb51-4150-cf95-6e6c2111a7ad",
        "colab": {
          "base_uri": "https://localhost:8080/"
        }
      },
      "outputs": [
        {
          "output_type": "execute_result",
          "data": {
            "text/plain": [
              "1024"
            ]
          },
          "metadata": {},
          "execution_count": 10
        }
      ],
      "source": [
        "2**10"
      ]
    },
    {
      "cell_type": "code",
      "source": [
        "9**1000"
      ],
      "metadata": {
        "id": "IFeWGzT_64ZU",
        "outputId": "fb430cc8-1e9b-4c57-8011-f1ae91ed8390",
        "colab": {
          "base_uri": "https://localhost:8080/"
        }
      },
      "execution_count": 12,
      "outputs": [
        {
          "output_type": "execute_result",
          "data": {
            "text/plain": [
              "1747871251722651609659974619164660570529062487435188517811888011810686266227275489291486469864681111075608950696145276588771368435875508647514414202093638481872912380089977179381529628478320523519319142681504424059410890214500500647813935818925701905402605484098137956979368551025825239411318643997916523677044769662628646406540335627975329619264245079750470862462474091105444437355302146151475348090755330153269067933091699479889089824650841795567478606396975664557143737657027080403239977757865296846740093712377915770536094223688049108023244139183027962484411078464439516845227961935221269814753416782576455507316073751985374046064592546796043150737808314501684679758056905948759246368644416151863138085276603595816410945157599742077617618911601185155602080771746785959359879490191933389965271275403127925432247963269675912646103156343954375442792688936047041533537523137941310690833949767764290081333900380310406154723157882112449991673819054110440001"
            ]
          },
          "metadata": {},
          "execution_count": 12
        }
      ]
    },
    {
      "cell_type": "code",
      "execution_count": 13,
      "metadata": {
        "id": "Vms814MN5M6k",
        "outputId": "df082c85-2e4b-4d51-be12-f9191404dd41",
        "colab": {
          "base_uri": "https://localhost:8080/"
        }
      },
      "outputs": [
        {
          "output_type": "execute_result",
          "data": {
            "text/plain": [
              "24"
            ]
          },
          "metadata": {},
          "execution_count": 13
        }
      ],
      "source": [
        "# 整數除法\n",
        "123//5"
      ]
    },
    {
      "cell_type": "code",
      "execution_count": 14,
      "metadata": {
        "id": "6d7P70LD5M6l",
        "outputId": "9f2b8311-9717-4541-c063-094cd5c987f7",
        "colab": {
          "base_uri": "https://localhost:8080/"
        }
      },
      "outputs": [
        {
          "output_type": "execute_result",
          "data": {
            "text/plain": [
              "24.6"
            ]
          },
          "metadata": {},
          "execution_count": 14
        }
      ],
      "source": [
        "123/5"
      ]
    },
    {
      "cell_type": "code",
      "execution_count": 15,
      "metadata": {
        "id": "gHCAp79c5M6m",
        "outputId": "189517c1-9053-4bab-dd9e-f97127f12e44",
        "colab": {
          "base_uri": "https://localhost:8080/"
        }
      },
      "outputs": [
        {
          "output_type": "execute_result",
          "data": {
            "text/plain": [
              "3"
            ]
          },
          "metadata": {},
          "execution_count": 15
        }
      ],
      "source": [
        "# 取餘數\n",
        "123%5"
      ]
    },
    {
      "cell_type": "markdown",
      "metadata": {
        "id": "qmw91uGg5M6n"
      },
      "source": [
        "### 變數"
      ]
    },
    {
      "cell_type": "markdown",
      "metadata": {
        "id": "I2Mm9O4n5M6p"
      },
      "source": [
        "[參考](https://python.swaroopch.com/basics.html)"
      ]
    },
    {
      "cell_type": "markdown",
      "metadata": {
        "id": "twFhcZw15M6q"
      },
      "source": [
        "- 數字: integers and floats"
      ]
    },
    {
      "cell_type": "code",
      "execution_count": 16,
      "metadata": {
        "id": "NXSemsHL5M6r"
      },
      "outputs": [],
      "source": [
        "num_int = 2*3"
      ]
    },
    {
      "cell_type": "code",
      "execution_count": 17,
      "metadata": {
        "id": "GjlXc6eN5M6s",
        "outputId": "40e2e76e-8845-4224-c0d1-363964efc9d8",
        "colab": {
          "base_uri": "https://localhost:8080/"
        }
      },
      "outputs": [
        {
          "output_type": "stream",
          "name": "stdout",
          "text": [
            "6\n"
          ]
        }
      ],
      "source": [
        "print(num_int)"
      ]
    },
    {
      "cell_type": "code",
      "execution_count": 18,
      "metadata": {
        "id": "fnqTLHou5M6s"
      },
      "outputs": [],
      "source": [
        "# python不用像 C語言那樣，有限定 int4, int8, int16, int32, int64...等有限的表示長度\n",
        "num_int = 123456789*987654321"
      ]
    },
    {
      "cell_type": "code",
      "execution_count": 19,
      "metadata": {
        "id": "QeLdLR3b5M6u",
        "outputId": "2f157d4f-70bb-48ef-8521-ecf57eb75fa3",
        "colab": {
          "base_uri": "https://localhost:8080/"
        }
      },
      "outputs": [
        {
          "output_type": "stream",
          "name": "stdout",
          "text": [
            "121932631112635269\n"
          ]
        }
      ],
      "source": [
        "print(num_int)"
      ]
    },
    {
      "cell_type": "code",
      "execution_count": 20,
      "metadata": {
        "id": "iyC7HAg45M6v"
      },
      "outputs": [],
      "source": [
        "num_float = 1.23*4.56"
      ]
    },
    {
      "cell_type": "code",
      "execution_count": 21,
      "metadata": {
        "id": "tIX2xA6I5M6w",
        "outputId": "e8c2a9f2-ca9a-4f9c-9d9a-d46f87355974",
        "colab": {
          "base_uri": "https://localhost:8080/"
        }
      },
      "outputs": [
        {
          "output_type": "stream",
          "name": "stdout",
          "text": [
            "5.6088\n"
          ]
        }
      ],
      "source": [
        "print(num_float)"
      ]
    },
    {
      "cell_type": "markdown",
      "metadata": {
        "id": "GLWsqeRv5M6x"
      },
      "source": [
        "### 變數進階"
      ]
    },
    {
      "cell_type": "code",
      "execution_count": 22,
      "metadata": {
        "id": "8yp-Rf1F5M6x",
        "outputId": "1417635d-79cd-466f-8782-5c3cc9799e8f",
        "colab": {
          "base_uri": "https://localhost:8080/"
        }
      },
      "outputs": [
        {
          "output_type": "stream",
          "name": "stdout",
          "text": [
            "6.838957413845486e+17\n"
          ]
        }
      ],
      "source": [
        "num_float = num_float * num_int\n",
        "print(num_float)"
      ]
    },
    {
      "cell_type": "code",
      "execution_count": 23,
      "metadata": {
        "id": "qHQ7DUwG5M6x",
        "outputId": "f724d862-6653-4891-ecc3-4a4670179ebf",
        "colab": {
          "base_uri": "https://localhost:8080/"
        }
      },
      "outputs": [
        {
          "output_type": "stream",
          "name": "stdout",
          "text": [
            "30\n"
          ]
        }
      ],
      "source": [
        "num_int = 10\n",
        "num_int = num_int + 20\n",
        "print(num_int)"
      ]
    },
    {
      "cell_type": "code",
      "execution_count": 24,
      "metadata": {
        "id": "9Iq8dCPR5M6y",
        "outputId": "9fdae3b4-1fdb-4332-9a22-e0cfa977e558",
        "colab": {
          "base_uri": "https://localhost:8080/"
        }
      },
      "outputs": [
        {
          "output_type": "stream",
          "name": "stdout",
          "text": [
            "80\n"
          ]
        }
      ],
      "source": [
        "num_int += 50 # num_int = num_int + 50\n",
        "print(num_int)"
      ]
    },
    {
      "cell_type": "markdown",
      "metadata": {
        "id": "pFO2iIdP5M6y"
      },
      "source": [
        "### 字串"
      ]
    },
    {
      "cell_type": "markdown",
      "source": [
        "- string1 -> 'hello'\n",
        "- string2 -> \"hello\"\n"
      ],
      "metadata": {
        "id": "bBUXfE0H9ZGM"
      }
    },
    {
      "cell_type": "code",
      "execution_count": 25,
      "metadata": {
        "id": "6fqV8Rzg5M6y",
        "outputId": "dbba08aa-aeb7-4066-f68e-953918e3ee6f",
        "colab": {
          "base_uri": "https://localhost:8080/"
        }
      },
      "outputs": [
        {
          "output_type": "stream",
          "name": "stdout",
          "text": [
            "hello, i am jack\n"
          ]
        }
      ],
      "source": [
        "str1 = 'hello, i am jack'\n",
        "print(str1)"
      ]
    },
    {
      "cell_type": "code",
      "execution_count": 26,
      "metadata": {
        "id": "EMULvu9f5M6z",
        "outputId": "1c4f7526-0008-412d-8758-3fd2fef8742e",
        "colab": {
          "base_uri": "https://localhost:8080/",
          "height": 36
        }
      },
      "outputs": [
        {
          "output_type": "execute_result",
          "data": {
            "text/plain": [
              "'hello, i am jackhello world'"
            ],
            "application/vnd.google.colaboratory.intrinsic+json": {
              "type": "string"
            }
          },
          "metadata": {},
          "execution_count": 26
        }
      ],
      "source": [
        "str2 = 'hello world'\n",
        "str1 + str2"
      ]
    },
    {
      "cell_type": "code",
      "execution_count": 27,
      "metadata": {
        "id": "ZR8LG2Y85M6z",
        "outputId": "1858b573-803e-453e-baf9-8a5fad49cf9e",
        "colab": {
          "base_uri": "https://localhost:8080/"
        }
      },
      "outputs": [
        {
          "output_type": "stream",
          "name": "stdout",
          "text": [
            "number int is 5; number float is 1.5\n"
          ]
        }
      ],
      "source": [
        "num_int = 5\n",
        "num_float = 1.5\n",
        "str3 = 'number int is %s; number float is %s' %(num_int, num_float)\n",
        "print(str3)"
      ]
    },
    {
      "cell_type": "code",
      "execution_count": 30,
      "metadata": {
        "id": "ZlGgDk9L5M6z",
        "outputId": "15309041-366c-4b05-b6e5-9c19d67722b2",
        "colab": {
          "base_uri": "https://localhost:8080/"
        }
      },
      "outputs": [
        {
          "output_type": "stream",
          "name": "stdout",
          "text": [
            "number int is 00005; number float is 1.235\n"
          ]
        }
      ],
      "source": [
        "# 進一步對數字格式化\n",
        "num_float = 1.234567\n",
        "str3 = 'number int is %05d; number float is %.3f' %(num_int, num_float)\n",
        "print(str3)"
      ]
    },
    {
      "cell_type": "code",
      "execution_count": 32,
      "metadata": {
        "id": "GDfq3oKK5M60",
        "outputId": "917e43ee-5301-4d95-e186-1ee278f4d11f",
        "colab": {
          "base_uri": "https://localhost:8080/"
        }
      },
      "outputs": [
        {
          "output_type": "stream",
          "name": "stdout",
          "text": [
            "num1 = 15, num2 = 1.234\n"
          ]
        }
      ],
      "source": [
        "# Python3支援的格式化寫法\n",
        "num1 = 15\n",
        "num2 = 1.234\n",
        "str4 = f\"num1 = {num1}, num2 = {num2}\"\n",
        "print(str4)"
      ]
    },
    {
      "cell_type": "code",
      "source": [
        "# Python3支援的格式化寫法(3.6)\n",
        "num1 = 15\n",
        "num2 = 1.234\n",
        "str4 = f\"num1 = {num1:5d}, num2 = {num2:.1f}\"\n",
        "print(str4)"
      ],
      "metadata": {
        "id": "_k0N6InbW4-m",
        "outputId": "4703fce5-6784-404f-bc06-f73c8c084850",
        "colab": {
          "base_uri": "https://localhost:8080/"
        }
      },
      "execution_count": 75,
      "outputs": [
        {
          "output_type": "stream",
          "name": "stdout",
          "text": [
            "num1 =    15, num2 = 1.2\n"
          ]
        }
      ]
    },
    {
      "cell_type": "markdown",
      "metadata": {
        "id": "1hl7jfF_5M60"
      },
      "source": [
        "### 判斷式"
      ]
    },
    {
      "cell_type": "markdown",
      "metadata": {
        "id": "Teqr2C3k5M61"
      },
      "source": [
        "- if"
      ]
    },
    {
      "cell_type": "code",
      "execution_count": 33,
      "metadata": {
        "id": "OJIr9olf5M61",
        "outputId": "a24794b0-9ca0-43ed-dc93-ae180d0d31d8",
        "colab": {
          "base_uri": "https://localhost:8080/"
        }
      },
      "outputs": [
        {
          "output_type": "stream",
          "name": "stdout",
          "text": [
            "less\n"
          ]
        }
      ],
      "source": [
        "n = 6\n",
        "m = 10\n",
        "if n>m:\n",
        "    print('great')\n",
        "else:\n",
        "    print('less')"
      ]
    },
    {
      "cell_type": "code",
      "execution_count": 36,
      "metadata": {
        "id": "_2FQKSoy5M62",
        "outputId": "f7015587-19f3-4a9f-ff62-3e112f3260b6",
        "colab": {
          "base_uri": "https://localhost:8080/"
        }
      },
      "outputs": [
        {
          "output_type": "stream",
          "name": "stdout",
          "text": [
            "你太厲害了!\n"
          ]
        }
      ],
      "source": [
        "n=90\n",
        "if n>80:\n",
        "    print('你太厲害了!')\n",
        "elif n>70:\n",
        "    print('很不錯喔')\n",
        "elif n>60:\n",
        "    print('低空飛過，再加油')\n",
        "else:\n",
        "    print('你不及格')\n"
      ]
    },
    {
      "cell_type": "markdown",
      "metadata": {
        "id": "Wyya6jgY5M62"
      },
      "source": [
        "### 迴圈"
      ]
    },
    {
      "cell_type": "markdown",
      "metadata": {
        "id": "Ty1dmKPF5M63"
      },
      "source": [
        "- for"
      ]
    },
    {
      "cell_type": "code",
      "execution_count": 37,
      "metadata": {
        "id": "qK0VH3-A5M63",
        "outputId": "29502490-e585-4dca-c90e-373c39386b60",
        "colab": {
          "base_uri": "https://localhost:8080/"
        }
      },
      "outputs": [
        {
          "output_type": "stream",
          "name": "stdout",
          "text": [
            "1 * 1 = 1\n",
            "2 * 2 = 4\n",
            "3 * 3 = 9\n",
            "4 * 4 = 16\n"
          ]
        }
      ],
      "source": [
        "for i in range(1, 5): # [1, 2, 3, 4]\n",
        "    print(i, '*', i, '=', i*i)"
      ]
    },
    {
      "cell_type": "code",
      "source": [
        "for i in [1, 3, 5, 7]:\n",
        "    print(i, '*', i, '=', i*i)"
      ],
      "metadata": {
        "id": "Pkq9a8c9Eade",
        "outputId": "4ee1d711-fbeb-491e-94f2-0bc8aaa23cce",
        "colab": {
          "base_uri": "https://localhost:8080/"
        }
      },
      "execution_count": 43,
      "outputs": [
        {
          "output_type": "stream",
          "name": "stdout",
          "text": [
            "1 * 1 = 1\n",
            "3 * 3 = 9\n",
            "5 * 5 = 25\n",
            "7 * 7 = 49\n"
          ]
        }
      ]
    },
    {
      "cell_type": "markdown",
      "metadata": {
        "id": "cn3h6BWh5M63"
      },
      "source": [
        "- while"
      ]
    },
    {
      "cell_type": "code",
      "execution_count": 45,
      "metadata": {
        "id": "sRJ8_Fe25M64",
        "outputId": "4ccec3c7-19f1-4762-d6c9-9959e3a1fcc8",
        "colab": {
          "base_uri": "https://localhost:8080/"
        }
      },
      "outputs": [
        {
          "output_type": "stream",
          "name": "stdout",
          "text": [
            "1^1 = 1\n",
            "2^2 = 4\n",
            "3^3 = 27\n",
            "4^4 = 256\n",
            "5^5 = 3125\n",
            "6^6 = 46656\n",
            "7^7 = 823543\n",
            "8^8 = 16777216\n",
            "9^9 = 387420489\n"
          ]
        }
      ],
      "source": [
        "MAX_N = 10\n",
        "n = 1\n",
        "while(n<MAX_N):\n",
        "    print('%d^%d = %d' %(n, n, n**n))\n",
        "    n+=1"
      ]
    },
    {
      "cell_type": "markdown",
      "metadata": {
        "id": "uGJu5H8D5M64"
      },
      "source": [
        "- 跑一半需要跳出來: break"
      ]
    },
    {
      "cell_type": "code",
      "execution_count": 48,
      "metadata": {
        "id": "eJ03q9lK5M64",
        "outputId": "a362df49-4fed-42ef-9ee2-b4083e2e0a41",
        "colab": {
          "base_uri": "https://localhost:8080/"
        }
      },
      "outputs": [
        {
          "output_type": "stream",
          "name": "stdout",
          "text": [
            "1 * 1 = 1\n",
            "2 * 2 = 4\n",
            "3 * 3 = 9\n",
            "4 * 4 = 16\n",
            "5 * 5 = 25\n"
          ]
        }
      ],
      "source": [
        "for i in range(1, 10):\n",
        "    if i>=6:\n",
        "        break\n",
        "    print(i, '*', i, '=', i*i)\n"
      ]
    },
    {
      "cell_type": "markdown",
      "metadata": {
        "id": "S5TmQkXo5M65"
      },
      "source": [
        "- 某些項目不處理，但還需要處理後續: continue"
      ]
    },
    {
      "cell_type": "code",
      "execution_count": 49,
      "metadata": {
        "id": "sOPY1DyV5M65",
        "outputId": "7a2a7cd9-5c36-4646-e52e-beacb88d60cd",
        "colab": {
          "base_uri": "https://localhost:8080/"
        }
      },
      "outputs": [
        {
          "output_type": "stream",
          "name": "stdout",
          "text": [
            "1 * 1 = 1\n",
            "2 * 2 = 4\n",
            "3 * 3 = 9\n",
            "4 * 4 = 16\n",
            "5 * 5 = 25\n",
            "7 * 7 = 49\n",
            "8 * 8 = 64\n",
            "9 * 9 = 81\n"
          ]
        }
      ],
      "source": [
        "for i in range(1, 10):\n",
        "    if i==6:\n",
        "        continue\n",
        "    print(i, '*', i, '=', i*i)\n"
      ]
    },
    {
      "cell_type": "markdown",
      "metadata": {
        "id": "wNMDbAX45M65"
      },
      "source": [
        "### List : 陣列、串列"
      ]
    },
    {
      "cell_type": "code",
      "execution_count": 50,
      "metadata": {
        "id": "hbX1aGRK5M65"
      },
      "outputs": [],
      "source": [
        "my_list = [1, 24, 32, 6, 30, 57]"
      ]
    },
    {
      "cell_type": "code",
      "source": [
        "my_list[0]"
      ],
      "metadata": {
        "id": "DOkhM3VSG1kQ",
        "outputId": "83f4b8de-1b59-4765-b2c8-09bb8b680f57",
        "colab": {
          "base_uri": "https://localhost:8080/"
        }
      },
      "execution_count": 51,
      "outputs": [
        {
          "output_type": "execute_result",
          "data": {
            "text/plain": [
              "1"
            ]
          },
          "metadata": {},
          "execution_count": 51
        }
      ]
    },
    {
      "cell_type": "code",
      "source": [
        "my_list[4]"
      ],
      "metadata": {
        "id": "GCsT1eb_G8WT",
        "outputId": "451535ce-5d24-488f-9202-41a272a0a985",
        "colab": {
          "base_uri": "https://localhost:8080/"
        }
      },
      "execution_count": 52,
      "outputs": [
        {
          "output_type": "execute_result",
          "data": {
            "text/plain": [
              "30"
            ]
          },
          "metadata": {},
          "execution_count": 52
        }
      ]
    },
    {
      "cell_type": "code",
      "source": [
        ""
      ],
      "metadata": {
        "id": "4nEppqXnG8P4"
      },
      "execution_count": null,
      "outputs": []
    },
    {
      "cell_type": "code",
      "execution_count": 53,
      "metadata": {
        "id": "Z762au5Y5M66",
        "outputId": "73f2de04-56ef-44cc-c8b9-51f74c17568d",
        "colab": {
          "base_uri": "https://localhost:8080/"
        }
      },
      "outputs": [
        {
          "output_type": "stream",
          "name": "stdout",
          "text": [
            "32\n",
            "57\n"
          ]
        }
      ],
      "source": [
        "# 找出超過30的數字\n",
        "for item in my_list: #[1, 24, 32, 6, 30, 57]\n",
        "    if item > 30:\n",
        "        print(item)"
      ]
    },
    {
      "cell_type": "code",
      "source": [
        "len(my_list)"
      ],
      "metadata": {
        "id": "WJu6k-GIHXJl",
        "outputId": "3a3690cf-24fa-4622-f370-f6a5c0eb83ad",
        "colab": {
          "base_uri": "https://localhost:8080/"
        }
      },
      "execution_count": 55,
      "outputs": [
        {
          "output_type": "execute_result",
          "data": {
            "text/plain": [
              "6"
            ]
          },
          "metadata": {},
          "execution_count": 55
        }
      ]
    },
    {
      "cell_type": "code",
      "execution_count": 54,
      "metadata": {
        "id": "x9GQYAXt5M66",
        "outputId": "29b1d0cb-f7c3-44fd-84b0-c22aa64d161a",
        "colab": {
          "base_uri": "https://localhost:8080/"
        }
      },
      "outputs": [
        {
          "output_type": "stream",
          "name": "stdout",
          "text": [
            "2 -> 32\n",
            "5 -> 57\n"
          ]
        }
      ],
      "source": [
        "# 同上，但列出是第幾個\n",
        "for i in range(len(my_list)):\n",
        "    if my_list[i] > 30:\n",
        "        print(i, '->', my_list[i])"
      ]
    },
    {
      "cell_type": "code",
      "execution_count": 56,
      "metadata": {
        "id": "20a0la6n5M66",
        "outputId": "fb06cdb0-d2d3-4e49-f0a0-d837434680fc",
        "colab": {
          "base_uri": "https://localhost:8080/"
        }
      },
      "outputs": [
        {
          "output_type": "stream",
          "name": "stdout",
          "text": [
            "2 -> 32\n",
            "5 -> 57\n"
          ]
        }
      ],
      "source": [
        "# 另一個寫法\n",
        "for i, item in enumerate(my_list): #[1, 24, 32, 6, 30, 57]\n",
        "    if item > 30:\n",
        "        print(i, '->', item)"
      ]
    },
    {
      "cell_type": "markdown",
      "metadata": {
        "id": "ANj4EaGQ5M66"
      },
      "source": [
        "### Dictionary\n",
        "- key vs value\n",
        "- {key:value, key2:value2, key3:value3}"
      ]
    },
    {
      "cell_type": "code",
      "execution_count": 57,
      "metadata": {
        "id": "2ILBFvjl5M67"
      },
      "outputs": [],
      "source": [
        "my_dict = {'Apple':3, 'Pear':5, 'Orange':2}"
      ]
    },
    {
      "cell_type": "code",
      "source": [
        "my_dict['Pear']"
      ],
      "metadata": {
        "id": "Z5cYPm6fIyVY",
        "outputId": "9f58c931-871f-4dda-e662-820b399da3e4",
        "colab": {
          "base_uri": "https://localhost:8080/"
        }
      },
      "execution_count": 59,
      "outputs": [
        {
          "output_type": "execute_result",
          "data": {
            "text/plain": [
              "5"
            ]
          },
          "metadata": {},
          "execution_count": 59
        }
      ]
    },
    {
      "cell_type": "code",
      "source": [
        "my_dict['abc']"
      ],
      "metadata": {
        "id": "f3T5GJz7I5zW",
        "outputId": "55f3e662-b1f6-4723-bc81-ee567fa4dea1",
        "colab": {
          "base_uri": "https://localhost:8080/",
          "height": 172
        }
      },
      "execution_count": 60,
      "outputs": [
        {
          "output_type": "error",
          "ename": "KeyError",
          "evalue": "ignored",
          "traceback": [
            "\u001b[0;31m---------------------------------------------------------------------------\u001b[0m",
            "\u001b[0;31mKeyError\u001b[0m                                  Traceback (most recent call last)",
            "\u001b[0;32m<ipython-input-60-ef6500abd2ff>\u001b[0m in \u001b[0;36m<module>\u001b[0;34m\u001b[0m\n\u001b[0;32m----> 1\u001b[0;31m \u001b[0mmy_dict\u001b[0m\u001b[0;34m[\u001b[0m\u001b[0;34m'abc'\u001b[0m\u001b[0;34m]\u001b[0m\u001b[0;34m\u001b[0m\u001b[0;34m\u001b[0m\u001b[0m\n\u001b[0m",
            "\u001b[0;31mKeyError\u001b[0m: 'abc'"
          ]
        }
      ]
    },
    {
      "cell_type": "code",
      "execution_count": 58,
      "metadata": {
        "id": "v_XvyWpQ5M67",
        "outputId": "357c7292-2301-4a57-a3cc-ac8536491ca2",
        "colab": {
          "base_uri": "https://localhost:8080/"
        }
      },
      "outputs": [
        {
          "output_type": "stream",
          "name": "stdout",
          "text": [
            "Apple : 3\n",
            "Pear : 5\n",
            "Orange : 2\n"
          ]
        }
      ],
      "source": [
        "for key in my_dict:\n",
        "    print('%s : %s' %(key, my_dict[key]))"
      ]
    },
    {
      "cell_type": "code",
      "execution_count": 61,
      "metadata": {
        "id": "nobIHHVq5M68"
      },
      "outputs": [],
      "source": [
        "my_dict['Strawberry'] = 10\n",
        "my_dict['Apple'] += 2"
      ]
    },
    {
      "cell_type": "code",
      "execution_count": 62,
      "metadata": {
        "id": "lZUNUvT95M69",
        "outputId": "aa672546-4380-4dd4-cf10-de4f0d124e59",
        "colab": {
          "base_uri": "https://localhost:8080/"
        }
      },
      "outputs": [
        {
          "output_type": "execute_result",
          "data": {
            "text/plain": [
              "{'Apple': 5, 'Pear': 5, 'Orange': 2, 'Strawberry': 10}"
            ]
          },
          "metadata": {},
          "execution_count": 62
        }
      ],
      "source": [
        "my_dict"
      ]
    },
    {
      "cell_type": "markdown",
      "metadata": {
        "id": "qS101aVs5M69"
      },
      "source": [
        "### 終極密碼"
      ]
    },
    {
      "cell_type": "markdown",
      "metadata": {
        "id": "NplxMADS5M6-"
      },
      "source": [
        "- 提示: \n",
        "    - 會使用到的API: randint, input\n",
        "    - input輸入的資料須要轉換"
      ]
    },
    {
      "cell_type": "code",
      "execution_count": 65,
      "metadata": {
        "id": "YTfEg2Cv5M6_",
        "outputId": "caf0f1fe-affc-4d29-b6cc-c212580951a5",
        "colab": {
          "base_uri": "https://localhost:8080/"
        }
      },
      "outputs": [
        {
          "output_type": "stream",
          "name": "stdout",
          "text": [
            "2\n"
          ]
        }
      ],
      "source": [
        "import random #引入模組，module\n",
        "\n",
        "number = random.randint(1, 5)\n",
        "print(number)"
      ]
    },
    {
      "cell_type": "code",
      "execution_count": 66,
      "metadata": {
        "id": "E3nneJDX5M6_",
        "outputId": "f8c51809-c7df-4fb8-8f9c-96c51f57a6df",
        "colab": {
          "base_uri": "https://localhost:8080/"
        }
      },
      "outputs": [
        {
          "output_type": "stream",
          "name": "stdout",
          "text": [
            "請輸入 1~100的數字50\n",
            "<class 'str'>\n",
            "<class 'int'> -> 50\n"
          ]
        }
      ],
      "source": [
        "my_num = input('請輸入 1~100的數字')\n",
        "print( type(my_num) )\n",
        "my_num = int(my_num)\n",
        "print( type(my_num), '->', my_num)"
      ]
    },
    {
      "cell_type": "code",
      "source": [
        "type(1)"
      ],
      "metadata": {
        "id": "ML3Qa5UHKell",
        "outputId": "1fe25130-4235-45f0-ecf0-47b45c14ae8a",
        "colab": {
          "base_uri": "https://localhost:8080/"
        }
      },
      "execution_count": 68,
      "outputs": [
        {
          "output_type": "execute_result",
          "data": {
            "text/plain": [
              "int"
            ]
          },
          "metadata": {},
          "execution_count": 68
        }
      ]
    },
    {
      "cell_type": "markdown",
      "metadata": {
        "id": "8bgdKOl25M7A"
      },
      "source": [
        "- 第一版: 使用者輸入一個數字密碼，程式要在沒猜中時，能提示使用者要猜大一點或是小一點"
      ]
    },
    {
      "cell_type": "code",
      "execution_count": 72,
      "metadata": {
        "id": "NMbA7EQ_5M7A",
        "outputId": "27e8f4e8-469c-4ea6-ed37-080589d13f37",
        "colab": {
          "base_uri": "https://localhost:8080/"
        }
      },
      "outputs": [
        {
          "output_type": "stream",
          "name": "stdout",
          "text": [
            "請輸入 1~100的數字50\n",
            "太大，猜小一點\n",
            "請輸入 1~100的數字30\n",
            "太小，猜大一點\n",
            "請輸入 1~100的數字40\n",
            "太大，猜小一點\n",
            "請輸入 1~100的數字35\n",
            "太小，猜大一點\n",
            "請輸入 1~100的數字38\n",
            "恭喜猜中了!!\n"
          ]
        }
      ],
      "source": [
        "# 請在這邊完成你的程式\n",
        "target = random.randint(1, 100)\n",
        "#print(target)\n",
        "\n",
        "#for i in range(10):\n",
        "while(True):\n",
        "    your_num = input('請輸入 1~100的數字')\n",
        "    your_num = int(your_num)\n",
        "    if your_num>target:\n",
        "        print('太大，猜小一點')\n",
        "    elif your_num<target:\n",
        "        print('太小，猜大一點')\n",
        "    else:\n",
        "        print('恭喜猜中了!!')\n",
        "        break\n",
        "\n"
      ]
    },
    {
      "cell_type": "markdown",
      "metadata": {
        "id": "jJ5dLJWI5M7B"
      },
      "source": [
        "- 第二版: 變數的練習，在前面的基礎下，把每一次猜的值記下來，更新到程式中的上、下限值，並在下一次提示目前可以猜的範圍"
      ]
    },
    {
      "cell_type": "code",
      "execution_count": 73,
      "metadata": {
        "id": "qSe_-xJQ5M7B",
        "outputId": "d3786ff4-2a3d-4ab9-b122-46c1d1bc5498",
        "colab": {
          "base_uri": "https://localhost:8080/"
        }
      },
      "outputs": [
        {
          "output_type": "stream",
          "name": "stdout",
          "text": [
            "請輸入 1 ~ 100的數字\n",
            "30\n",
            "太小，猜大一點\n",
            "請輸入 30 ~ 100的數字\n",
            "80\n",
            "太大，猜小一點\n",
            "請輸入 30 ~ 80的數字\n",
            "60\n",
            "太大，猜小一點\n",
            "請輸入 30 ~ 60的數字\n",
            "50\n",
            "太大，猜小一點\n",
            "請輸入 30 ~ 50的數字\n",
            "40\n",
            "太小，猜大一點\n",
            "請輸入 40 ~ 50的數字\n",
            "47\n",
            "太小，猜大一點\n",
            "請輸入 47 ~ 50的數字\n",
            "48\n",
            "恭喜猜中了!!\n"
          ]
        }
      ],
      "source": [
        "# 請在這邊完成你的程式\n",
        "\n",
        "target = random.randint(1, 100)\n",
        "your_min = 1\n",
        "your_max = 100\n",
        "\n",
        "while(True):\n",
        "    tip = '請輸入 %s ~ %s的數字' %(your_min, your_max)\n",
        "    print(tip)\n",
        "    your_num = input('')\n",
        "    your_num = int(your_num)\n",
        "    if your_num>target:\n",
        "        print('太大，猜小一點')\n",
        "        your_max = your_num\n",
        "    elif your_num<target:\n",
        "        print('太小，猜大一點')\n",
        "        your_min = your_num\n",
        "    else:\n",
        "        print('恭喜猜中了!!')\n",
        "        break\n"
      ]
    },
    {
      "cell_type": "code",
      "execution_count": null,
      "metadata": {
        "id": "qkCCiE4L5M7C"
      },
      "outputs": [],
      "source": [
        ""
      ]
    }
  ],
  "metadata": {
    "kernelspec": {
      "display_name": "Python 3 (ipykernel)",
      "language": "python",
      "name": "python3"
    },
    "language_info": {
      "codemirror_mode": {
        "name": "ipython",
        "version": 3
      },
      "file_extension": ".py",
      "mimetype": "text/x-python",
      "name": "python",
      "nbconvert_exporter": "python",
      "pygments_lexer": "ipython3",
      "version": "3.9.7"
    },
    "colab": {
      "provenance": []
    }
  },
  "nbformat": 4,
  "nbformat_minor": 0
}