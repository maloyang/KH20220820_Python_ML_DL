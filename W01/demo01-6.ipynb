{
 "cells": [
  {
   "cell_type": "markdown",
   "metadata": {},
   "source": [
    "# demo01-6: 高雄市停車資訊\n",
    "\n",
    "- 不是每一次資料都是沒問題的...."
   ]
  },
  {
   "cell_type": "code",
   "execution_count": 1,
   "metadata": {},
   "outputs": [
    {
     "name": "stdout",
     "output_type": "stream",
     "text": [
      "<Response [200]>\n"
     ]
    }
   ],
   "source": [
    "import requests\n",
    "\n",
    "url = \"https://data.kcg.gov.tw/dataset/449e45d9-dead-4873-95a9-cc34dabbb3af/resource/fe3f93da-9673-4f7b-859c-9017d793f798/download/108.6.21.csv\"\n",
    "\n",
    "r = requests.get(url)\n",
    "\n",
    "print(r)"
   ]
  },
  {
   "cell_type": "code",
   "execution_count": 2,
   "metadata": {},
   "outputs": [],
   "source": [
    "import csv\n",
    "\n",
    "decoded_content = r.content.decode('utf-8')\n",
    "cr = csv.reader(decoded_content.splitlines(), delimiter=',')\n",
    "data_list = list(cr)\n"
   ]
  },
  {
   "cell_type": "code",
   "execution_count": 3,
   "metadata": {},
   "outputs": [
    {
     "name": "stdout",
     "output_type": "stream",
     "text": [
      "['\\ufeff行政區', '型式', '場名', '位置', '經度', '緯度', '大型車', '小型車', '機慢車', '收費標準', '管理者資訊']\n",
      "['茄萣區', '立體', '興達港(地上)', '民族路51號', '120.194328', '22.871711', '0', '140', '0', '計時(5元/半小時)', '俥亭停車事業股份有限公司/服務電話：(07)6989439/履約期間:108.12.17-112.9.30']\n"
     ]
    }
   ],
   "source": [
    "print(data_list[0])\n",
    "print(data_list[1])"
   ]
  }
 ],
 "metadata": {
  "kernelspec": {
   "display_name": "Python 3 (ipykernel)",
   "language": "python",
   "name": "python3"
  },
  "language_info": {
   "codemirror_mode": {
    "name": "ipython",
    "version": 3
   },
   "file_extension": ".py",
   "mimetype": "text/x-python",
   "name": "python",
   "nbconvert_exporter": "python",
   "pygments_lexer": "ipython3",
   "version": "3.9.7"
  }
 },
 "nbformat": 4,
 "nbformat_minor": 4
}
