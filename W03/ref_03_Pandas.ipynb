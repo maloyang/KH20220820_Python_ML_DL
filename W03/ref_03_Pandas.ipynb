{
 "cells": [
  {
   "cell_type": "markdown",
   "metadata": {},
   "source": [
    "# Pandas 簡介"
   ]
  },
  {
   "cell_type": "markdown",
   "metadata": {},
   "source": [
    "## Pandas 是 Python 裡面被用來作資料分析及整理最常用的套件。"
   ]
  },
  {
   "cell_type": "markdown",
   "metadata": {},
   "source": [
    "### 這一份筆記主要說明以下重點：\n",
    "\n",
    "* 資料結構及其基本操作\n",
    "  - Series\n",
    "  - DataFrame\n",
    "* 網路資料存取\n",
    "* 資料視覺化\n",
    "* 資料分組及聚合\n",
    "\n",
    "參考資料：\n",
    "\n",
    "* [Python Data Analysis Library](http://pandas.pydata.org/)\n",
    "* [Pandas Cookbook](http://pandas.pydata.org/pandas-docs/version/0.18.0/cookbook.html)\n",
    "* [Pandas 入門介紹](https://github.com/Wei1234c/Introduction_to_Pandas)\n",
    "* [Financial Time Series](https://github.com/yhilpisch/py4fi/blob/master/ipython3/06_Financial_Time_Series.ipynb)\n",
    "* [Pandas API references](http://pandas.pydata.org/pandas-docs/stable/api.html#api-dataframe-stats)"
   ]
  },
  {
   "cell_type": "code",
   "execution_count": 1,
   "metadata": {},
   "outputs": [
    {
     "data": {
      "text/plain": [
       "'1.3.4'"
      ]
     },
     "execution_count": 1,
     "metadata": {},
     "output_type": "execute_result"
    }
   ],
   "source": [
    "import pandas as pd\n",
    "\n",
    "pd.__version__"
   ]
  },
  {
   "cell_type": "code",
   "execution_count": 2,
   "metadata": {},
   "outputs": [],
   "source": [
    "%matplotlib inline\n",
    "\n",
    "import numpy as np\n",
    "from datetime import datetime"
   ]
  },
  {
   "cell_type": "markdown",
   "metadata": {},
   "source": [
    "## Pandas 的資料結構"
   ]
  },
  {
   "cell_type": "markdown",
   "metadata": {},
   "source": [
    "### Series"
   ]
  },
  {
   "cell_type": "code",
   "execution_count": 3,
   "metadata": {},
   "outputs": [
    {
     "data": {
      "text/plain": [
       "0    1\n",
       "1    2\n",
       "2    3\n",
       "3    4\n",
       "4    5\n",
       "dtype: int64"
      ]
     },
     "execution_count": 3,
     "metadata": {},
     "output_type": "execute_result"
    }
   ],
   "source": [
    "s = pd.Series([1, 2, 3, 4, 5])\n",
    "s"
   ]
  },
  {
   "cell_type": "code",
   "execution_count": 6,
   "metadata": {},
   "outputs": [],
   "source": [
    "u = pd.Series([1, 2, 3, 4, 5])"
   ]
  },
  {
   "cell_type": "code",
   "execution_count": 7,
   "metadata": {},
   "outputs": [
    {
     "data": {
      "text/plain": [
       "0     2\n",
       "1     4\n",
       "2     6\n",
       "3     8\n",
       "4    10\n",
       "dtype: int64"
      ]
     },
     "execution_count": 7,
     "metadata": {},
     "output_type": "execute_result"
    }
   ],
   "source": [
    "s+u"
   ]
  },
  {
   "cell_type": "markdown",
   "metadata": {},
   "source": [
    "#### Series 跟 ndarray 有什麼不同呢？"
   ]
  },
  {
   "cell_type": "code",
   "execution_count": 8,
   "metadata": {},
   "outputs": [
    {
     "data": {
      "text/plain": [
       "array([1, 2, 3, 4, 5], dtype=int64)"
      ]
     },
     "execution_count": 8,
     "metadata": {},
     "output_type": "execute_result"
    }
   ],
   "source": [
    "s.values"
   ]
  },
  {
   "cell_type": "code",
   "execution_count": 9,
   "metadata": {},
   "outputs": [
    {
     "data": {
      "text/plain": [
       "RangeIndex(start=0, stop=5, step=1)"
      ]
     },
     "execution_count": 9,
     "metadata": {},
     "output_type": "execute_result"
    }
   ],
   "source": [
    "s.index"
   ]
  },
  {
   "cell_type": "markdown",
   "metadata": {},
   "source": [
    "#### index 可以在創建 Series 時指定"
   ]
  },
  {
   "cell_type": "code",
   "execution_count": 10,
   "metadata": {},
   "outputs": [],
   "source": [
    "s = pd.Series(range(5), index=list('abcde'))"
   ]
  },
  {
   "cell_type": "code",
   "execution_count": 11,
   "metadata": {},
   "outputs": [
    {
     "data": {
      "text/plain": [
       "a    0\n",
       "b    1\n",
       "c    2\n",
       "d    3\n",
       "e    4\n",
       "dtype: int64"
      ]
     },
     "execution_count": 11,
     "metadata": {},
     "output_type": "execute_result"
    }
   ],
   "source": [
    "s"
   ]
  },
  {
   "cell_type": "code",
   "execution_count": 12,
   "metadata": {},
   "outputs": [],
   "source": [
    "u.index = list('bcdef')"
   ]
  },
  {
   "cell_type": "code",
   "execution_count": 13,
   "metadata": {},
   "outputs": [
    {
     "data": {
      "text/plain": [
       "b    1\n",
       "c    2\n",
       "d    3\n",
       "e    4\n",
       "f    5\n",
       "dtype: int64"
      ]
     },
     "execution_count": 13,
     "metadata": {},
     "output_type": "execute_result"
    }
   ],
   "source": [
    "u"
   ]
  },
  {
   "cell_type": "code",
   "execution_count": 14,
   "metadata": {},
   "outputs": [
    {
     "data": {
      "text/plain": [
       "a    NaN\n",
       "b    2.0\n",
       "c    4.0\n",
       "d    6.0\n",
       "e    8.0\n",
       "f    NaN\n",
       "dtype: float64"
      ]
     },
     "execution_count": 14,
     "metadata": {},
     "output_type": "execute_result"
    }
   ],
   "source": [
    "s+u"
   ]
  },
  {
   "cell_type": "markdown",
   "metadata": {},
   "source": [
    "#### index 也可以在創建完 Series 後指定"
   ]
  },
  {
   "cell_type": "code",
   "execution_count": null,
   "metadata": {},
   "outputs": [],
   "source": [
    "s.index = list('fghij')\n",
    "s"
   ]
  },
  {
   "cell_type": "markdown",
   "metadata": {},
   "source": [
    "#### 什麼是 reindex？"
   ]
  },
  {
   "cell_type": "code",
   "execution_count": 15,
   "metadata": {},
   "outputs": [
    {
     "data": {
      "text/plain": [
       "h    NaN\n",
       "i    NaN\n",
       "j    NaN\n",
       "a    0.0\n",
       "b    1.0\n",
       "c    2.0\n",
       "d    3.0\n",
       "dtype: float64"
      ]
     },
     "execution_count": 15,
     "metadata": {},
     "output_type": "execute_result"
    }
   ],
   "source": [
    "s.reindex(list('hijabcd'))"
   ]
  },
  {
   "cell_type": "code",
   "execution_count": 16,
   "metadata": {},
   "outputs": [
    {
     "data": {
      "text/plain": [
       "a    0\n",
       "b    1\n",
       "c    2\n",
       "d    3\n",
       "e    4\n",
       "dtype: int64"
      ]
     },
     "execution_count": 16,
     "metadata": {},
     "output_type": "execute_result"
    }
   ],
   "source": [
    "s"
   ]
  },
  {
   "cell_type": "code",
   "execution_count": 17,
   "metadata": {},
   "outputs": [
    {
     "data": {
      "text/plain": [
       "dtype('int64')"
      ]
     },
     "execution_count": 17,
     "metadata": {},
     "output_type": "execute_result"
    }
   ],
   "source": [
    "s.dtype"
   ]
  },
  {
   "cell_type": "code",
   "execution_count": 18,
   "metadata": {},
   "outputs": [
    {
     "data": {
      "text/plain": [
       "(5,)"
      ]
     },
     "execution_count": 18,
     "metadata": {},
     "output_type": "execute_result"
    }
   ],
   "source": [
    "s.shape"
   ]
  },
  {
   "cell_type": "markdown",
   "metadata": {},
   "source": [
    "### DataFrame"
   ]
  },
  {
   "cell_type": "code",
   "execution_count": 19,
   "metadata": {},
   "outputs": [],
   "source": [
    "data = np.random.randn(10, 4)"
   ]
  },
  {
   "cell_type": "code",
   "execution_count": 20,
   "metadata": {},
   "outputs": [
    {
     "data": {
      "text/html": [
       "<div>\n",
       "<style scoped>\n",
       "    .dataframe tbody tr th:only-of-type {\n",
       "        vertical-align: middle;\n",
       "    }\n",
       "\n",
       "    .dataframe tbody tr th {\n",
       "        vertical-align: top;\n",
       "    }\n",
       "\n",
       "    .dataframe thead th {\n",
       "        text-align: right;\n",
       "    }\n",
       "</style>\n",
       "<table border=\"1\" class=\"dataframe\">\n",
       "  <thead>\n",
       "    <tr style=\"text-align: right;\">\n",
       "      <th></th>\n",
       "      <th>0</th>\n",
       "      <th>1</th>\n",
       "      <th>2</th>\n",
       "      <th>3</th>\n",
       "    </tr>\n",
       "  </thead>\n",
       "  <tbody>\n",
       "    <tr>\n",
       "      <th>0</th>\n",
       "      <td>1.982231</td>\n",
       "      <td>0.620001</td>\n",
       "      <td>0.158268</td>\n",
       "      <td>0.962065</td>\n",
       "    </tr>\n",
       "    <tr>\n",
       "      <th>1</th>\n",
       "      <td>-0.400261</td>\n",
       "      <td>-0.576531</td>\n",
       "      <td>0.980601</td>\n",
       "      <td>0.317331</td>\n",
       "    </tr>\n",
       "    <tr>\n",
       "      <th>2</th>\n",
       "      <td>0.272691</td>\n",
       "      <td>-0.657567</td>\n",
       "      <td>-0.275869</td>\n",
       "      <td>0.815325</td>\n",
       "    </tr>\n",
       "    <tr>\n",
       "      <th>3</th>\n",
       "      <td>0.714238</td>\n",
       "      <td>-1.095269</td>\n",
       "      <td>1.137020</td>\n",
       "      <td>-1.157445</td>\n",
       "    </tr>\n",
       "    <tr>\n",
       "      <th>4</th>\n",
       "      <td>0.873165</td>\n",
       "      <td>0.036381</td>\n",
       "      <td>0.190656</td>\n",
       "      <td>-0.254953</td>\n",
       "    </tr>\n",
       "    <tr>\n",
       "      <th>5</th>\n",
       "      <td>-0.440756</td>\n",
       "      <td>-0.055469</td>\n",
       "      <td>0.045051</td>\n",
       "      <td>1.969517</td>\n",
       "    </tr>\n",
       "    <tr>\n",
       "      <th>6</th>\n",
       "      <td>-0.276417</td>\n",
       "      <td>-0.487820</td>\n",
       "      <td>1.392265</td>\n",
       "      <td>0.160565</td>\n",
       "    </tr>\n",
       "    <tr>\n",
       "      <th>7</th>\n",
       "      <td>-1.730829</td>\n",
       "      <td>0.002668</td>\n",
       "      <td>-0.276775</td>\n",
       "      <td>-0.568242</td>\n",
       "    </tr>\n",
       "    <tr>\n",
       "      <th>8</th>\n",
       "      <td>-0.332232</td>\n",
       "      <td>-0.791057</td>\n",
       "      <td>0.416602</td>\n",
       "      <td>-0.106758</td>\n",
       "    </tr>\n",
       "    <tr>\n",
       "      <th>9</th>\n",
       "      <td>0.160832</td>\n",
       "      <td>-0.565030</td>\n",
       "      <td>0.110545</td>\n",
       "      <td>-0.779896</td>\n",
       "    </tr>\n",
       "  </tbody>\n",
       "</table>\n",
       "</div>"
      ],
      "text/plain": [
       "          0         1         2         3\n",
       "0  1.982231  0.620001  0.158268  0.962065\n",
       "1 -0.400261 -0.576531  0.980601  0.317331\n",
       "2  0.272691 -0.657567 -0.275869  0.815325\n",
       "3  0.714238 -1.095269  1.137020 -1.157445\n",
       "4  0.873165  0.036381  0.190656 -0.254953\n",
       "5 -0.440756 -0.055469  0.045051  1.969517\n",
       "6 -0.276417 -0.487820  1.392265  0.160565\n",
       "7 -1.730829  0.002668 -0.276775 -0.568242\n",
       "8 -0.332232 -0.791057  0.416602 -0.106758\n",
       "9  0.160832 -0.565030  0.110545 -0.779896"
      ]
     },
     "execution_count": 20,
     "metadata": {},
     "output_type": "execute_result"
    }
   ],
   "source": [
    "df = pd.DataFrame(data)\n",
    "df"
   ]
  },
  {
   "cell_type": "code",
   "execution_count": 21,
   "metadata": {},
   "outputs": [
    {
     "data": {
      "text/html": [
       "<div>\n",
       "<style scoped>\n",
       "    .dataframe tbody tr th:only-of-type {\n",
       "        vertical-align: middle;\n",
       "    }\n",
       "\n",
       "    .dataframe tbody tr th {\n",
       "        vertical-align: top;\n",
       "    }\n",
       "\n",
       "    .dataframe thead th {\n",
       "        text-align: right;\n",
       "    }\n",
       "</style>\n",
       "<table border=\"1\" class=\"dataframe\">\n",
       "  <thead>\n",
       "    <tr style=\"text-align: right;\">\n",
       "      <th></th>\n",
       "      <th>No1</th>\n",
       "      <th>No2</th>\n",
       "      <th>No3</th>\n",
       "      <th>No4</th>\n",
       "    </tr>\n",
       "  </thead>\n",
       "  <tbody>\n",
       "    <tr>\n",
       "      <th>0</th>\n",
       "      <td>1.982231</td>\n",
       "      <td>0.620001</td>\n",
       "      <td>0.158268</td>\n",
       "      <td>0.962065</td>\n",
       "    </tr>\n",
       "    <tr>\n",
       "      <th>1</th>\n",
       "      <td>-0.400261</td>\n",
       "      <td>-0.576531</td>\n",
       "      <td>0.980601</td>\n",
       "      <td>0.317331</td>\n",
       "    </tr>\n",
       "    <tr>\n",
       "      <th>2</th>\n",
       "      <td>0.272691</td>\n",
       "      <td>-0.657567</td>\n",
       "      <td>-0.275869</td>\n",
       "      <td>0.815325</td>\n",
       "    </tr>\n",
       "    <tr>\n",
       "      <th>3</th>\n",
       "      <td>0.714238</td>\n",
       "      <td>-1.095269</td>\n",
       "      <td>1.137020</td>\n",
       "      <td>-1.157445</td>\n",
       "    </tr>\n",
       "    <tr>\n",
       "      <th>4</th>\n",
       "      <td>0.873165</td>\n",
       "      <td>0.036381</td>\n",
       "      <td>0.190656</td>\n",
       "      <td>-0.254953</td>\n",
       "    </tr>\n",
       "    <tr>\n",
       "      <th>5</th>\n",
       "      <td>-0.440756</td>\n",
       "      <td>-0.055469</td>\n",
       "      <td>0.045051</td>\n",
       "      <td>1.969517</td>\n",
       "    </tr>\n",
       "    <tr>\n",
       "      <th>6</th>\n",
       "      <td>-0.276417</td>\n",
       "      <td>-0.487820</td>\n",
       "      <td>1.392265</td>\n",
       "      <td>0.160565</td>\n",
       "    </tr>\n",
       "    <tr>\n",
       "      <th>7</th>\n",
       "      <td>-1.730829</td>\n",
       "      <td>0.002668</td>\n",
       "      <td>-0.276775</td>\n",
       "      <td>-0.568242</td>\n",
       "    </tr>\n",
       "    <tr>\n",
       "      <th>8</th>\n",
       "      <td>-0.332232</td>\n",
       "      <td>-0.791057</td>\n",
       "      <td>0.416602</td>\n",
       "      <td>-0.106758</td>\n",
       "    </tr>\n",
       "    <tr>\n",
       "      <th>9</th>\n",
       "      <td>0.160832</td>\n",
       "      <td>-0.565030</td>\n",
       "      <td>0.110545</td>\n",
       "      <td>-0.779896</td>\n",
       "    </tr>\n",
       "  </tbody>\n",
       "</table>\n",
       "</div>"
      ],
      "text/plain": [
       "        No1       No2       No3       No4\n",
       "0  1.982231  0.620001  0.158268  0.962065\n",
       "1 -0.400261 -0.576531  0.980601  0.317331\n",
       "2  0.272691 -0.657567 -0.275869  0.815325\n",
       "3  0.714238 -1.095269  1.137020 -1.157445\n",
       "4  0.873165  0.036381  0.190656 -0.254953\n",
       "5 -0.440756 -0.055469  0.045051  1.969517\n",
       "6 -0.276417 -0.487820  1.392265  0.160565\n",
       "7 -1.730829  0.002668 -0.276775 -0.568242\n",
       "8 -0.332232 -0.791057  0.416602 -0.106758\n",
       "9  0.160832 -0.565030  0.110545 -0.779896"
      ]
     },
     "execution_count": 21,
     "metadata": {},
     "output_type": "execute_result"
    }
   ],
   "source": [
    "df.columns = ['No1', 'No2', 'No3', 'No4']\n",
    "df"
   ]
  },
  {
   "cell_type": "code",
   "execution_count": 22,
   "metadata": {},
   "outputs": [
    {
     "data": {
      "text/html": [
       "<div>\n",
       "<style scoped>\n",
       "    .dataframe tbody tr th:only-of-type {\n",
       "        vertical-align: middle;\n",
       "    }\n",
       "\n",
       "    .dataframe tbody tr th {\n",
       "        vertical-align: top;\n",
       "    }\n",
       "\n",
       "    .dataframe thead th {\n",
       "        text-align: right;\n",
       "    }\n",
       "</style>\n",
       "<table border=\"1\" class=\"dataframe\">\n",
       "  <thead>\n",
       "    <tr style=\"text-align: right;\">\n",
       "      <th></th>\n",
       "      <th>No1</th>\n",
       "      <th>No2</th>\n",
       "      <th>No3</th>\n",
       "      <th>No4</th>\n",
       "    </tr>\n",
       "  </thead>\n",
       "  <tbody>\n",
       "    <tr>\n",
       "      <th>2016-01-01</th>\n",
       "      <td>1.982231</td>\n",
       "      <td>0.620001</td>\n",
       "      <td>0.158268</td>\n",
       "      <td>0.962065</td>\n",
       "    </tr>\n",
       "    <tr>\n",
       "      <th>2016-01-02</th>\n",
       "      <td>-0.400261</td>\n",
       "      <td>-0.576531</td>\n",
       "      <td>0.980601</td>\n",
       "      <td>0.317331</td>\n",
       "    </tr>\n",
       "    <tr>\n",
       "      <th>2016-01-03</th>\n",
       "      <td>0.272691</td>\n",
       "      <td>-0.657567</td>\n",
       "      <td>-0.275869</td>\n",
       "      <td>0.815325</td>\n",
       "    </tr>\n",
       "    <tr>\n",
       "      <th>2016-01-04</th>\n",
       "      <td>0.714238</td>\n",
       "      <td>-1.095269</td>\n",
       "      <td>1.137020</td>\n",
       "      <td>-1.157445</td>\n",
       "    </tr>\n",
       "    <tr>\n",
       "      <th>2016-01-05</th>\n",
       "      <td>0.873165</td>\n",
       "      <td>0.036381</td>\n",
       "      <td>0.190656</td>\n",
       "      <td>-0.254953</td>\n",
       "    </tr>\n",
       "    <tr>\n",
       "      <th>2016-01-06</th>\n",
       "      <td>-0.440756</td>\n",
       "      <td>-0.055469</td>\n",
       "      <td>0.045051</td>\n",
       "      <td>1.969517</td>\n",
       "    </tr>\n",
       "    <tr>\n",
       "      <th>2016-01-07</th>\n",
       "      <td>-0.276417</td>\n",
       "      <td>-0.487820</td>\n",
       "      <td>1.392265</td>\n",
       "      <td>0.160565</td>\n",
       "    </tr>\n",
       "    <tr>\n",
       "      <th>2016-01-08</th>\n",
       "      <td>-1.730829</td>\n",
       "      <td>0.002668</td>\n",
       "      <td>-0.276775</td>\n",
       "      <td>-0.568242</td>\n",
       "    </tr>\n",
       "    <tr>\n",
       "      <th>2016-01-09</th>\n",
       "      <td>-0.332232</td>\n",
       "      <td>-0.791057</td>\n",
       "      <td>0.416602</td>\n",
       "      <td>-0.106758</td>\n",
       "    </tr>\n",
       "    <tr>\n",
       "      <th>2016-01-10</th>\n",
       "      <td>0.160832</td>\n",
       "      <td>-0.565030</td>\n",
       "      <td>0.110545</td>\n",
       "      <td>-0.779896</td>\n",
       "    </tr>\n",
       "  </tbody>\n",
       "</table>\n",
       "</div>"
      ],
      "text/plain": [
       "                 No1       No2       No3       No4\n",
       "2016-01-01  1.982231  0.620001  0.158268  0.962065\n",
       "2016-01-02 -0.400261 -0.576531  0.980601  0.317331\n",
       "2016-01-03  0.272691 -0.657567 -0.275869  0.815325\n",
       "2016-01-04  0.714238 -1.095269  1.137020 -1.157445\n",
       "2016-01-05  0.873165  0.036381  0.190656 -0.254953\n",
       "2016-01-06 -0.440756 -0.055469  0.045051  1.969517\n",
       "2016-01-07 -0.276417 -0.487820  1.392265  0.160565\n",
       "2016-01-08 -1.730829  0.002668 -0.276775 -0.568242\n",
       "2016-01-09 -0.332232 -0.791057  0.416602 -0.106758\n",
       "2016-01-10  0.160832 -0.565030  0.110545 -0.779896"
      ]
     },
     "execution_count": 22,
     "metadata": {},
     "output_type": "execute_result"
    }
   ],
   "source": [
    "df.index = pd.date_range('2016-01-01', periods=10)\n",
    "df"
   ]
  },
  {
   "cell_type": "code",
   "execution_count": 23,
   "metadata": {},
   "outputs": [
    {
     "data": {
      "text/plain": [
       "No1   -0.440756\n",
       "No2   -0.055469\n",
       "No3    0.045051\n",
       "No4    1.969517\n",
       "Name: 2016-01-06 00:00:00, dtype: float64"
      ]
     },
     "execution_count": 23,
     "metadata": {},
     "output_type": "execute_result"
    }
   ],
   "source": [
    "df.loc['2016-01-06']"
   ]
  },
  {
   "cell_type": "code",
   "execution_count": 24,
   "metadata": {},
   "outputs": [
    {
     "data": {
      "text/html": [
       "<div>\n",
       "<style scoped>\n",
       "    .dataframe tbody tr th:only-of-type {\n",
       "        vertical-align: middle;\n",
       "    }\n",
       "\n",
       "    .dataframe tbody tr th {\n",
       "        vertical-align: top;\n",
       "    }\n",
       "\n",
       "    .dataframe thead th {\n",
       "        text-align: right;\n",
       "    }\n",
       "</style>\n",
       "<table border=\"1\" class=\"dataframe\">\n",
       "  <thead>\n",
       "    <tr style=\"text-align: right;\">\n",
       "      <th></th>\n",
       "      <th>No1</th>\n",
       "      <th>No2</th>\n",
       "      <th>No3</th>\n",
       "      <th>No4</th>\n",
       "    </tr>\n",
       "  </thead>\n",
       "  <tbody>\n",
       "    <tr>\n",
       "      <th>2016-01-01</th>\n",
       "      <td>1.982231</td>\n",
       "      <td>0.620001</td>\n",
       "      <td>0.158268</td>\n",
       "      <td>0.962065</td>\n",
       "    </tr>\n",
       "    <tr>\n",
       "      <th>2016-01-02</th>\n",
       "      <td>-0.400261</td>\n",
       "      <td>-0.576531</td>\n",
       "      <td>0.980601</td>\n",
       "      <td>0.317331</td>\n",
       "    </tr>\n",
       "    <tr>\n",
       "      <th>2016-01-04</th>\n",
       "      <td>0.714238</td>\n",
       "      <td>-1.095269</td>\n",
       "      <td>1.137020</td>\n",
       "      <td>-1.157445</td>\n",
       "    </tr>\n",
       "    <tr>\n",
       "      <th>2016-01-05</th>\n",
       "      <td>0.873165</td>\n",
       "      <td>0.036381</td>\n",
       "      <td>0.190656</td>\n",
       "      <td>-0.254953</td>\n",
       "    </tr>\n",
       "    <tr>\n",
       "      <th>2016-01-06</th>\n",
       "      <td>-0.440756</td>\n",
       "      <td>-0.055469</td>\n",
       "      <td>0.045051</td>\n",
       "      <td>1.969517</td>\n",
       "    </tr>\n",
       "    <tr>\n",
       "      <th>2016-01-07</th>\n",
       "      <td>-0.276417</td>\n",
       "      <td>-0.487820</td>\n",
       "      <td>1.392265</td>\n",
       "      <td>0.160565</td>\n",
       "    </tr>\n",
       "    <tr>\n",
       "      <th>2016-01-08</th>\n",
       "      <td>-1.730829</td>\n",
       "      <td>0.002668</td>\n",
       "      <td>-0.276775</td>\n",
       "      <td>-0.568242</td>\n",
       "    </tr>\n",
       "    <tr>\n",
       "      <th>2016-01-09</th>\n",
       "      <td>-0.332232</td>\n",
       "      <td>-0.791057</td>\n",
       "      <td>0.416602</td>\n",
       "      <td>-0.106758</td>\n",
       "    </tr>\n",
       "    <tr>\n",
       "      <th>2016-01-10</th>\n",
       "      <td>0.160832</td>\n",
       "      <td>-0.565030</td>\n",
       "      <td>0.110545</td>\n",
       "      <td>-0.779896</td>\n",
       "    </tr>\n",
       "  </tbody>\n",
       "</table>\n",
       "</div>"
      ],
      "text/plain": [
       "                 No1       No2       No3       No4\n",
       "2016-01-01  1.982231  0.620001  0.158268  0.962065\n",
       "2016-01-02 -0.400261 -0.576531  0.980601  0.317331\n",
       "2016-01-04  0.714238 -1.095269  1.137020 -1.157445\n",
       "2016-01-05  0.873165  0.036381  0.190656 -0.254953\n",
       "2016-01-06 -0.440756 -0.055469  0.045051  1.969517\n",
       "2016-01-07 -0.276417 -0.487820  1.392265  0.160565\n",
       "2016-01-08 -1.730829  0.002668 -0.276775 -0.568242\n",
       "2016-01-09 -0.332232 -0.791057  0.416602 -0.106758\n",
       "2016-01-10  0.160832 -0.565030  0.110545 -0.779896"
      ]
     },
     "execution_count": 24,
     "metadata": {},
     "output_type": "execute_result"
    }
   ],
   "source": [
    "df.drop(datetime(2016, 1, 3), inplace=True)\n",
    "df"
   ]
  },
  {
   "cell_type": "code",
   "execution_count": 25,
   "metadata": {},
   "outputs": [
    {
     "data": {
      "text/html": [
       "<div>\n",
       "<style scoped>\n",
       "    .dataframe tbody tr th:only-of-type {\n",
       "        vertical-align: middle;\n",
       "    }\n",
       "\n",
       "    .dataframe tbody tr th {\n",
       "        vertical-align: top;\n",
       "    }\n",
       "\n",
       "    .dataframe thead th {\n",
       "        text-align: right;\n",
       "    }\n",
       "</style>\n",
       "<table border=\"1\" class=\"dataframe\">\n",
       "  <thead>\n",
       "    <tr style=\"text-align: right;\">\n",
       "      <th></th>\n",
       "      <th>No1</th>\n",
       "      <th>No2</th>\n",
       "      <th>No3</th>\n",
       "      <th>No4</th>\n",
       "    </tr>\n",
       "  </thead>\n",
       "  <tbody>\n",
       "    <tr>\n",
       "      <th>0</th>\n",
       "      <td>1.982231</td>\n",
       "      <td>0.620001</td>\n",
       "      <td>0.158268</td>\n",
       "      <td>0.962065</td>\n",
       "    </tr>\n",
       "    <tr>\n",
       "      <th>1</th>\n",
       "      <td>-0.400261</td>\n",
       "      <td>-0.576531</td>\n",
       "      <td>0.980601</td>\n",
       "      <td>0.317331</td>\n",
       "    </tr>\n",
       "    <tr>\n",
       "      <th>2</th>\n",
       "      <td>0.714238</td>\n",
       "      <td>-1.095269</td>\n",
       "      <td>1.137020</td>\n",
       "      <td>-1.157445</td>\n",
       "    </tr>\n",
       "    <tr>\n",
       "      <th>3</th>\n",
       "      <td>0.873165</td>\n",
       "      <td>0.036381</td>\n",
       "      <td>0.190656</td>\n",
       "      <td>-0.254953</td>\n",
       "    </tr>\n",
       "    <tr>\n",
       "      <th>4</th>\n",
       "      <td>-0.440756</td>\n",
       "      <td>-0.055469</td>\n",
       "      <td>0.045051</td>\n",
       "      <td>1.969517</td>\n",
       "    </tr>\n",
       "    <tr>\n",
       "      <th>5</th>\n",
       "      <td>-0.276417</td>\n",
       "      <td>-0.487820</td>\n",
       "      <td>1.392265</td>\n",
       "      <td>0.160565</td>\n",
       "    </tr>\n",
       "    <tr>\n",
       "      <th>6</th>\n",
       "      <td>-1.730829</td>\n",
       "      <td>0.002668</td>\n",
       "      <td>-0.276775</td>\n",
       "      <td>-0.568242</td>\n",
       "    </tr>\n",
       "    <tr>\n",
       "      <th>7</th>\n",
       "      <td>-0.332232</td>\n",
       "      <td>-0.791057</td>\n",
       "      <td>0.416602</td>\n",
       "      <td>-0.106758</td>\n",
       "    </tr>\n",
       "    <tr>\n",
       "      <th>8</th>\n",
       "      <td>0.160832</td>\n",
       "      <td>-0.565030</td>\n",
       "      <td>0.110545</td>\n",
       "      <td>-0.779896</td>\n",
       "    </tr>\n",
       "  </tbody>\n",
       "</table>\n",
       "</div>"
      ],
      "text/plain": [
       "        No1       No2       No3       No4\n",
       "0  1.982231  0.620001  0.158268  0.962065\n",
       "1 -0.400261 -0.576531  0.980601  0.317331\n",
       "2  0.714238 -1.095269  1.137020 -1.157445\n",
       "3  0.873165  0.036381  0.190656 -0.254953\n",
       "4 -0.440756 -0.055469  0.045051  1.969517\n",
       "5 -0.276417 -0.487820  1.392265  0.160565\n",
       "6 -1.730829  0.002668 -0.276775 -0.568242\n",
       "7 -0.332232 -0.791057  0.416602 -0.106758\n",
       "8  0.160832 -0.565030  0.110545 -0.779896"
      ]
     },
     "execution_count": 25,
     "metadata": {},
     "output_type": "execute_result"
    }
   ],
   "source": [
    "df.index=range(9)\n",
    "df"
   ]
  },
  {
   "cell_type": "code",
   "execution_count": 26,
   "metadata": {},
   "outputs": [
    {
     "data": {
      "text/plain": [
       "No1   -0.400261\n",
       "No2   -0.576531\n",
       "No3    0.980601\n",
       "No4    0.317331\n",
       "Name: 1, dtype: float64"
      ]
     },
     "execution_count": 26,
     "metadata": {},
     "output_type": "execute_result"
    }
   ],
   "source": [
    "df.iloc[1]"
   ]
  },
  {
   "cell_type": "code",
   "execution_count": 27,
   "metadata": {},
   "outputs": [
    {
     "data": {
      "text/html": [
       "<div>\n",
       "<style scoped>\n",
       "    .dataframe tbody tr th:only-of-type {\n",
       "        vertical-align: middle;\n",
       "    }\n",
       "\n",
       "    .dataframe tbody tr th {\n",
       "        vertical-align: top;\n",
       "    }\n",
       "\n",
       "    .dataframe thead th {\n",
       "        text-align: right;\n",
       "    }\n",
       "</style>\n",
       "<table border=\"1\" class=\"dataframe\">\n",
       "  <thead>\n",
       "    <tr style=\"text-align: right;\">\n",
       "      <th></th>\n",
       "      <th>No1</th>\n",
       "      <th>No2</th>\n",
       "      <th>No3</th>\n",
       "      <th>No4</th>\n",
       "    </tr>\n",
       "  </thead>\n",
       "  <tbody>\n",
       "    <tr>\n",
       "      <th>0</th>\n",
       "      <td>1.982231</td>\n",
       "      <td>0.620001</td>\n",
       "      <td>0.158268</td>\n",
       "      <td>0.962065</td>\n",
       "    </tr>\n",
       "    <tr>\n",
       "      <th>1</th>\n",
       "      <td>-0.400261</td>\n",
       "      <td>-0.576531</td>\n",
       "      <td>0.980601</td>\n",
       "      <td>0.317331</td>\n",
       "    </tr>\n",
       "    <tr>\n",
       "      <th>2</th>\n",
       "      <td>0.714238</td>\n",
       "      <td>-1.095269</td>\n",
       "      <td>1.137020</td>\n",
       "      <td>-1.157445</td>\n",
       "    </tr>\n",
       "    <tr>\n",
       "      <th>3</th>\n",
       "      <td>0.873165</td>\n",
       "      <td>0.036381</td>\n",
       "      <td>0.190656</td>\n",
       "      <td>-0.254953</td>\n",
       "    </tr>\n",
       "    <tr>\n",
       "      <th>5</th>\n",
       "      <td>-0.276417</td>\n",
       "      <td>-0.487820</td>\n",
       "      <td>1.392265</td>\n",
       "      <td>0.160565</td>\n",
       "    </tr>\n",
       "    <tr>\n",
       "      <th>6</th>\n",
       "      <td>-1.730829</td>\n",
       "      <td>0.002668</td>\n",
       "      <td>-0.276775</td>\n",
       "      <td>-0.568242</td>\n",
       "    </tr>\n",
       "    <tr>\n",
       "      <th>7</th>\n",
       "      <td>-0.332232</td>\n",
       "      <td>-0.791057</td>\n",
       "      <td>0.416602</td>\n",
       "      <td>-0.106758</td>\n",
       "    </tr>\n",
       "    <tr>\n",
       "      <th>8</th>\n",
       "      <td>0.160832</td>\n",
       "      <td>-0.565030</td>\n",
       "      <td>0.110545</td>\n",
       "      <td>-0.779896</td>\n",
       "    </tr>\n",
       "  </tbody>\n",
       "</table>\n",
       "</div>"
      ],
      "text/plain": [
       "        No1       No2       No3       No4\n",
       "0  1.982231  0.620001  0.158268  0.962065\n",
       "1 -0.400261 -0.576531  0.980601  0.317331\n",
       "2  0.714238 -1.095269  1.137020 -1.157445\n",
       "3  0.873165  0.036381  0.190656 -0.254953\n",
       "5 -0.276417 -0.487820  1.392265  0.160565\n",
       "6 -1.730829  0.002668 -0.276775 -0.568242\n",
       "7 -0.332232 -0.791057  0.416602 -0.106758\n",
       "8  0.160832 -0.565030  0.110545 -0.779896"
      ]
     },
     "execution_count": 27,
     "metadata": {},
     "output_type": "execute_result"
    }
   ],
   "source": [
    "df.drop(4)"
   ]
  },
  {
   "cell_type": "markdown",
   "metadata": {},
   "source": [
    "## 使用 Pandas 作資料存取\n",
    "\n",
    "### 這一部分包括底下幾個重點：\n",
    "\n",
    "* read_csv() 的使用\n",
    "* read_html() 的使用\n",
    "* 如何抓取股市資訊？\n",
    "\n",
    "底下練習一下將 [台灣證券交易所 - 加權股價指數歷史資料](http://www.tse.com.tw/ch/trading/indices/MI_5MINS_HIST/MI_5MINS_HIST.php#) 的資料轉成 DataFrame。"
   ]
  },
  {
   "cell_type": "markdown",
   "metadata": {},
   "source": [
    "### 使用 read_csv() 讀取資料\n",
    "\n",
    "參考連結：[pandas.read_csv](http://pandas.pydata.org/pandas-docs/stable/generated/pandas.read_csv.html)"
   ]
  },
  {
   "cell_type": "code",
   "execution_count": null,
   "metadata": {},
   "outputs": [],
   "source": [
    "df = pd.read_csv(\"data/MI_5MINS_HIST10603.csv\", encoding=\"Big5\", header=1)"
   ]
  },
  {
   "cell_type": "code",
   "execution_count": null,
   "metadata": {},
   "outputs": [],
   "source": [
    "df"
   ]
  },
  {
   "cell_type": "code",
   "execution_count": null,
   "metadata": {},
   "outputs": [],
   "source": [
    "df.drop(df.index[len(df.index)-1], inplace=True)\n",
    "df"
   ]
  },
  {
   "cell_type": "markdown",
   "metadata": {},
   "source": [
    "### 使用 read_html() 讀取資料\n",
    "\n",
    "參考連結：[pandas.read_html](http://pandas.pydata.org/pandas-docs/stable/generated/pandas.read_html.html)"
   ]
  },
  {
   "cell_type": "code",
   "execution_count": null,
   "metadata": {},
   "outputs": [],
   "source": [
    "import requests\n",
    "from bs4 import BeautifulSoup"
   ]
  },
  {
   "cell_type": "code",
   "execution_count": null,
   "metadata": {},
   "outputs": [],
   "source": [
    "r = requests.get(\"http://www.tse.com.tw/ch/trading/indices/MI_5MINS_HIST/MI_5MINS_HIST.php\")\n",
    "r.encoding = 'Big5'"
   ]
  },
  {
   "cell_type": "code",
   "execution_count": null,
   "metadata": {},
   "outputs": [],
   "source": [
    "soup = BeautifulSoup(r.text, \"lxml\")\n",
    "tables = soup.select(\"table.board_trad\")\n",
    "tables"
   ]
  },
  {
   "cell_type": "code",
   "execution_count": null,
   "metadata": {},
   "outputs": [],
   "source": [
    "type(tables[0])"
   ]
  },
  {
   "cell_type": "code",
   "execution_count": null,
   "metadata": {},
   "outputs": [],
   "source": [
    "df_list = pd.read_html(str(tables[0]), header=1)"
   ]
  },
  {
   "cell_type": "code",
   "execution_count": null,
   "metadata": {},
   "outputs": [],
   "source": [
    "df_list[0]"
   ]
  },
  {
   "cell_type": "markdown",
   "metadata": {},
   "source": [
    "### 使用 Pandas 讀取股價資訊\n",
    "\n",
    "參考資料：[pandas-datareadre 說明文件](https://pandas-datareader.readthedocs.io/en/latest/)"
   ]
  },
  {
   "cell_type": "code",
   "execution_count": null,
   "metadata": {},
   "outputs": [],
   "source": [
    "import pandas_datareader.data as web\n",
    "from datetime import datetime"
   ]
  },
  {
   "cell_type": "code",
   "execution_count": null,
   "metadata": {},
   "outputs": [],
   "source": [
    "df = web.DataReader(\"TSLA\", 'google', datetime(2016,1,1))\n",
    "df['Close'].plot()"
   ]
  },
  {
   "cell_type": "markdown",
   "metadata": {},
   "source": [
    "## 資料視覺化\n",
    "\n",
    "Series 跟 DataFrame 都附帶有一個產生各類圖表的 plot()，預設的情況下，它會產生線形圖。\n",
    "\n",
    "參考資料：[Pandas Plotting](http://pandas.pydata.org/pandas-docs/stable/visualization.html)"
   ]
  },
  {
   "cell_type": "code",
   "execution_count": 28,
   "metadata": {},
   "outputs": [
    {
     "data": {
      "text/plain": [
       "<AxesSubplot:>"
      ]
     },
     "execution_count": 28,
     "metadata": {},
     "output_type": "execute_result"
    },
    {
     "data": {
      "image/png": "[encoded data removed]",
      "text/plain": [
       "<Figure size 432x288 with 1 Axes>"
      ]
     },
     "metadata": {
      "needs_background": "light"
     },
     "output_type": "display_data"
    }
   ],
   "source": [
    "s = pd.Series(np.random.randn(10), index=np.arange(10))\n",
    "s.plot()"
   ]
  },
  {
   "cell_type": "code",
   "execution_count": 29,
   "metadata": {},
   "outputs": [
    {
     "data": {
      "text/plain": [
       "<AxesSubplot:>"
      ]
     },
     "execution_count": 29,
     "metadata": {},
     "output_type": "execute_result"
    },
    {
     "data": {
      "image/png": "[encoded data removed]",
      "text/plain": [
       "<Figure size 432x288 with 1 Axes>"
      ]
     },
     "metadata": {
      "needs_background": "light"
     },
     "output_type": "display_data"
    }
   ],
   "source": [
    "s.plot(kind=\"bar\")"
   ]
  },
  {
   "cell_type": "code",
   "execution_count": 30,
   "metadata": {},
   "outputs": [
    {
     "data": {
      "text/plain": [
       "<AxesSubplot:>"
      ]
     },
     "execution_count": 30,
     "metadata": {},
     "output_type": "execute_result"
    },
    {
     "data": {
      "image/png": "[encoded data removed]",
      "text/plain": [
       "<Figure size 432x288 with 1 Axes>"
      ]
     },
     "metadata": {
      "needs_background": "light"
     },
     "output_type": "display_data"
    }
   ],
   "source": [
    "df = pd.DataFrame(np.random.randn(10, 4), columns=list('ABCD'))\n",
    "df.plot()"
   ]
  },
  {
   "cell_type": "code",
   "execution_count": 31,
   "metadata": {},
   "outputs": [
    {
     "data": {
      "text/plain": [
       "<AxesSubplot:>"
      ]
     },
     "execution_count": 31,
     "metadata": {},
     "output_type": "execute_result"
    },
    {
     "data": {
      "image/png": "[encoded data removed]",
      "text/plain": [
       "<Figure size 432x288 with 1 Axes>"
      ]
     },
     "metadata": {
      "needs_background": "light"
     },
     "output_type": "display_data"
    }
   ],
   "source": [
    "df.plot(kind='bar')"
   ]
  },
  {
   "cell_type": "markdown",
   "metadata": {},
   "source": [
    "## 資料分組與聚合"
   ]
  },
  {
   "cell_type": "code",
   "execution_count": 32,
   "metadata": {},
   "outputs": [],
   "source": [
    "data = np.random.randn(10, 4)"
   ]
  },
  {
   "cell_type": "code",
   "execution_count": 33,
   "metadata": {},
   "outputs": [
    {
     "data": {
      "text/html": [
       "<div>\n",
       "<style scoped>\n",
       "    .dataframe tbody tr th:only-of-type {\n",
       "        vertical-align: middle;\n",
       "    }\n",
       "\n",
       "    .dataframe tbody tr th {\n",
       "        vertical-align: top;\n",
       "    }\n",
       "\n",
       "    .dataframe thead th {\n",
       "        text-align: right;\n",
       "    }\n",
       "</style>\n",
       "<table border=\"1\" class=\"dataframe\">\n",
       "  <thead>\n",
       "    <tr style=\"text-align: right;\">\n",
       "      <th></th>\n",
       "      <th>No1</th>\n",
       "      <th>No2</th>\n",
       "      <th>No3</th>\n",
       "      <th>No4</th>\n",
       "    </tr>\n",
       "  </thead>\n",
       "  <tbody>\n",
       "    <tr>\n",
       "      <th>0</th>\n",
       "      <td>0.029700</td>\n",
       "      <td>0.336919</td>\n",
       "      <td>0.025761</td>\n",
       "      <td>0.170063</td>\n",
       "    </tr>\n",
       "    <tr>\n",
       "      <th>1</th>\n",
       "      <td>-0.527215</td>\n",
       "      <td>0.599172</td>\n",
       "      <td>-0.790287</td>\n",
       "      <td>-1.123522</td>\n",
       "    </tr>\n",
       "    <tr>\n",
       "      <th>2</th>\n",
       "      <td>-1.186640</td>\n",
       "      <td>-0.175166</td>\n",
       "      <td>-1.705550</td>\n",
       "      <td>-0.186076</td>\n",
       "    </tr>\n",
       "    <tr>\n",
       "      <th>3</th>\n",
       "      <td>0.699091</td>\n",
       "      <td>-0.277762</td>\n",
       "      <td>-0.465226</td>\n",
       "      <td>0.644722</td>\n",
       "    </tr>\n",
       "    <tr>\n",
       "      <th>4</th>\n",
       "      <td>0.664370</td>\n",
       "      <td>0.080939</td>\n",
       "      <td>-1.593522</td>\n",
       "      <td>-0.552750</td>\n",
       "    </tr>\n",
       "    <tr>\n",
       "      <th>5</th>\n",
       "      <td>1.424085</td>\n",
       "      <td>-0.309231</td>\n",
       "      <td>-0.352610</td>\n",
       "      <td>-0.020019</td>\n",
       "    </tr>\n",
       "    <tr>\n",
       "      <th>6</th>\n",
       "      <td>0.390912</td>\n",
       "      <td>1.299206</td>\n",
       "      <td>0.430722</td>\n",
       "      <td>-1.133183</td>\n",
       "    </tr>\n",
       "    <tr>\n",
       "      <th>7</th>\n",
       "      <td>1.411226</td>\n",
       "      <td>-0.022598</td>\n",
       "      <td>-0.427621</td>\n",
       "      <td>-1.422548</td>\n",
       "    </tr>\n",
       "    <tr>\n",
       "      <th>8</th>\n",
       "      <td>0.171136</td>\n",
       "      <td>0.671323</td>\n",
       "      <td>0.439154</td>\n",
       "      <td>-0.424286</td>\n",
       "    </tr>\n",
       "    <tr>\n",
       "      <th>9</th>\n",
       "      <td>-0.137286</td>\n",
       "      <td>-1.429296</td>\n",
       "      <td>0.384975</td>\n",
       "      <td>-0.127250</td>\n",
       "    </tr>\n",
       "  </tbody>\n",
       "</table>\n",
       "</div>"
      ],
      "text/plain": [
       "        No1       No2       No3       No4\n",
       "0  0.029700  0.336919  0.025761  0.170063\n",
       "1 -0.527215  0.599172 -0.790287 -1.123522\n",
       "2 -1.186640 -0.175166 -1.705550 -0.186076\n",
       "3  0.699091 -0.277762 -0.465226  0.644722\n",
       "4  0.664370  0.080939 -1.593522 -0.552750\n",
       "5  1.424085 -0.309231 -0.352610 -0.020019\n",
       "6  0.390912  1.299206  0.430722 -1.133183\n",
       "7  1.411226 -0.022598 -0.427621 -1.422548\n",
       "8  0.171136  0.671323  0.439154 -0.424286\n",
       "9 -0.137286 -1.429296  0.384975 -0.127250"
      ]
     },
     "execution_count": 33,
     "metadata": {},
     "output_type": "execute_result"
    }
   ],
   "source": [
    "df = pd.DataFrame(data, columns=['No1', 'No2', 'No3', 'No4'])\n",
    "df"
   ]
  },
  {
   "cell_type": "code",
   "execution_count": 34,
   "metadata": {},
   "outputs": [
    {
     "data": {
      "text/html": [
       "<div>\n",
       "<style scoped>\n",
       "    .dataframe tbody tr th:only-of-type {\n",
       "        vertical-align: middle;\n",
       "    }\n",
       "\n",
       "    .dataframe tbody tr th {\n",
       "        vertical-align: top;\n",
       "    }\n",
       "\n",
       "    .dataframe thead th {\n",
       "        text-align: right;\n",
       "    }\n",
       "</style>\n",
       "<table border=\"1\" class=\"dataframe\">\n",
       "  <thead>\n",
       "    <tr style=\"text-align: right;\">\n",
       "      <th></th>\n",
       "      <th>No1</th>\n",
       "      <th>No2</th>\n",
       "      <th>No3</th>\n",
       "      <th>No4</th>\n",
       "      <th>Category</th>\n",
       "    </tr>\n",
       "  </thead>\n",
       "  <tbody>\n",
       "    <tr>\n",
       "      <th>0</th>\n",
       "      <td>0.029700</td>\n",
       "      <td>0.336919</td>\n",
       "      <td>0.025761</td>\n",
       "      <td>0.170063</td>\n",
       "      <td>NaN</td>\n",
       "    </tr>\n",
       "    <tr>\n",
       "      <th>1</th>\n",
       "      <td>-0.527215</td>\n",
       "      <td>0.599172</td>\n",
       "      <td>-0.790287</td>\n",
       "      <td>-1.123522</td>\n",
       "      <td>NaN</td>\n",
       "    </tr>\n",
       "    <tr>\n",
       "      <th>2</th>\n",
       "      <td>-1.186640</td>\n",
       "      <td>-0.175166</td>\n",
       "      <td>-1.705550</td>\n",
       "      <td>-0.186076</td>\n",
       "      <td>NaN</td>\n",
       "    </tr>\n",
       "    <tr>\n",
       "      <th>3</th>\n",
       "      <td>0.699091</td>\n",
       "      <td>-0.277762</td>\n",
       "      <td>-0.465226</td>\n",
       "      <td>0.644722</td>\n",
       "      <td>NaN</td>\n",
       "    </tr>\n",
       "    <tr>\n",
       "      <th>4</th>\n",
       "      <td>0.664370</td>\n",
       "      <td>0.080939</td>\n",
       "      <td>-1.593522</td>\n",
       "      <td>-0.552750</td>\n",
       "      <td>NaN</td>\n",
       "    </tr>\n",
       "    <tr>\n",
       "      <th>5</th>\n",
       "      <td>1.424085</td>\n",
       "      <td>-0.309231</td>\n",
       "      <td>-0.352610</td>\n",
       "      <td>-0.020019</td>\n",
       "      <td>NaN</td>\n",
       "    </tr>\n",
       "    <tr>\n",
       "      <th>6</th>\n",
       "      <td>0.390912</td>\n",
       "      <td>1.299206</td>\n",
       "      <td>0.430722</td>\n",
       "      <td>-1.133183</td>\n",
       "      <td>NaN</td>\n",
       "    </tr>\n",
       "    <tr>\n",
       "      <th>7</th>\n",
       "      <td>1.411226</td>\n",
       "      <td>-0.022598</td>\n",
       "      <td>-0.427621</td>\n",
       "      <td>-1.422548</td>\n",
       "      <td>NaN</td>\n",
       "    </tr>\n",
       "    <tr>\n",
       "      <th>8</th>\n",
       "      <td>0.171136</td>\n",
       "      <td>0.671323</td>\n",
       "      <td>0.439154</td>\n",
       "      <td>-0.424286</td>\n",
       "      <td>NaN</td>\n",
       "    </tr>\n",
       "    <tr>\n",
       "      <th>9</th>\n",
       "      <td>-0.137286</td>\n",
       "      <td>-1.429296</td>\n",
       "      <td>0.384975</td>\n",
       "      <td>-0.127250</td>\n",
       "      <td>NaN</td>\n",
       "    </tr>\n",
       "  </tbody>\n",
       "</table>\n",
       "</div>"
      ],
      "text/plain": [
       "        No1       No2       No3       No4  Category\n",
       "0  0.029700  0.336919  0.025761  0.170063       NaN\n",
       "1 -0.527215  0.599172 -0.790287 -1.123522       NaN\n",
       "2 -1.186640 -0.175166 -1.705550 -0.186076       NaN\n",
       "3  0.699091 -0.277762 -0.465226  0.644722       NaN\n",
       "4  0.664370  0.080939 -1.593522 -0.552750       NaN\n",
       "5  1.424085 -0.309231 -0.352610 -0.020019       NaN\n",
       "6  0.390912  1.299206  0.430722 -1.133183       NaN\n",
       "7  1.411226 -0.022598 -0.427621 -1.422548       NaN\n",
       "8  0.171136  0.671323  0.439154 -0.424286       NaN\n",
       "9 -0.137286 -1.429296  0.384975 -0.127250       NaN"
      ]
     },
     "execution_count": 34,
     "metadata": {},
     "output_type": "execute_result"
    }
   ],
   "source": [
    "df['Category'] = np.NaN\n",
    "df"
   ]
  },
  {
   "cell_type": "code",
   "execution_count": 35,
   "metadata": {},
   "outputs": [],
   "source": [
    "clist = ['C1'] * 3 + ['C2'] * 5 + ['C3'] * 2"
   ]
  },
  {
   "cell_type": "code",
   "execution_count": 36,
   "metadata": {},
   "outputs": [],
   "source": [
    "df['Category'] = np.random.permutation(clist)"
   ]
  },
  {
   "cell_type": "code",
   "execution_count": 37,
   "metadata": {},
   "outputs": [
    {
     "data": {
      "text/html": [
       "<div>\n",
       "<style scoped>\n",
       "    .dataframe tbody tr th:only-of-type {\n",
       "        vertical-align: middle;\n",
       "    }\n",
       "\n",
       "    .dataframe tbody tr th {\n",
       "        vertical-align: top;\n",
       "    }\n",
       "\n",
       "    .dataframe thead th {\n",
       "        text-align: right;\n",
       "    }\n",
       "</style>\n",
       "<table border=\"1\" class=\"dataframe\">\n",
       "  <thead>\n",
       "    <tr style=\"text-align: right;\">\n",
       "      <th></th>\n",
       "      <th>No1</th>\n",
       "      <th>No2</th>\n",
       "      <th>No3</th>\n",
       "      <th>No4</th>\n",
       "      <th>Category</th>\n",
       "    </tr>\n",
       "  </thead>\n",
       "  <tbody>\n",
       "    <tr>\n",
       "      <th>0</th>\n",
       "      <td>0.029700</td>\n",
       "      <td>0.336919</td>\n",
       "      <td>0.025761</td>\n",
       "      <td>0.170063</td>\n",
       "      <td>C2</td>\n",
       "    </tr>\n",
       "    <tr>\n",
       "      <th>1</th>\n",
       "      <td>-0.527215</td>\n",
       "      <td>0.599172</td>\n",
       "      <td>-0.790287</td>\n",
       "      <td>-1.123522</td>\n",
       "      <td>C3</td>\n",
       "    </tr>\n",
       "    <tr>\n",
       "      <th>2</th>\n",
       "      <td>-1.186640</td>\n",
       "      <td>-0.175166</td>\n",
       "      <td>-1.705550</td>\n",
       "      <td>-0.186076</td>\n",
       "      <td>C2</td>\n",
       "    </tr>\n",
       "    <tr>\n",
       "      <th>3</th>\n",
       "      <td>0.699091</td>\n",
       "      <td>-0.277762</td>\n",
       "      <td>-0.465226</td>\n",
       "      <td>0.644722</td>\n",
       "      <td>C2</td>\n",
       "    </tr>\n",
       "    <tr>\n",
       "      <th>4</th>\n",
       "      <td>0.664370</td>\n",
       "      <td>0.080939</td>\n",
       "      <td>-1.593522</td>\n",
       "      <td>-0.552750</td>\n",
       "      <td>C1</td>\n",
       "    </tr>\n",
       "    <tr>\n",
       "      <th>5</th>\n",
       "      <td>1.424085</td>\n",
       "      <td>-0.309231</td>\n",
       "      <td>-0.352610</td>\n",
       "      <td>-0.020019</td>\n",
       "      <td>C2</td>\n",
       "    </tr>\n",
       "    <tr>\n",
       "      <th>6</th>\n",
       "      <td>0.390912</td>\n",
       "      <td>1.299206</td>\n",
       "      <td>0.430722</td>\n",
       "      <td>-1.133183</td>\n",
       "      <td>C3</td>\n",
       "    </tr>\n",
       "    <tr>\n",
       "      <th>7</th>\n",
       "      <td>1.411226</td>\n",
       "      <td>-0.022598</td>\n",
       "      <td>-0.427621</td>\n",
       "      <td>-1.422548</td>\n",
       "      <td>C1</td>\n",
       "    </tr>\n",
       "    <tr>\n",
       "      <th>8</th>\n",
       "      <td>0.171136</td>\n",
       "      <td>0.671323</td>\n",
       "      <td>0.439154</td>\n",
       "      <td>-0.424286</td>\n",
       "      <td>C1</td>\n",
       "    </tr>\n",
       "    <tr>\n",
       "      <th>9</th>\n",
       "      <td>-0.137286</td>\n",
       "      <td>-1.429296</td>\n",
       "      <td>0.384975</td>\n",
       "      <td>-0.127250</td>\n",
       "      <td>C2</td>\n",
       "    </tr>\n",
       "  </tbody>\n",
       "</table>\n",
       "</div>"
      ],
      "text/plain": [
       "        No1       No2       No3       No4 Category\n",
       "0  0.029700  0.336919  0.025761  0.170063       C2\n",
       "1 -0.527215  0.599172 -0.790287 -1.123522       C3\n",
       "2 -1.186640 -0.175166 -1.705550 -0.186076       C2\n",
       "3  0.699091 -0.277762 -0.465226  0.644722       C2\n",
       "4  0.664370  0.080939 -1.593522 -0.552750       C1\n",
       "5  1.424085 -0.309231 -0.352610 -0.020019       C2\n",
       "6  0.390912  1.299206  0.430722 -1.133183       C3\n",
       "7  1.411226 -0.022598 -0.427621 -1.422548       C1\n",
       "8  0.171136  0.671323  0.439154 -0.424286       C1\n",
       "9 -0.137286 -1.429296  0.384975 -0.127250       C2"
      ]
     },
     "execution_count": 37,
     "metadata": {},
     "output_type": "execute_result"
    }
   ],
   "source": [
    "df"
   ]
  },
  {
   "cell_type": "code",
   "execution_count": 38,
   "metadata": {},
   "outputs": [],
   "source": [
    "groups = df.groupby('Category')"
   ]
  },
  {
   "cell_type": "code",
   "execution_count": 39,
   "metadata": {},
   "outputs": [
    {
     "data": {
      "text/plain": [
       "<pandas.core.groupby.generic.DataFrameGroupBy object at 0x00000291A7C31820>"
      ]
     },
     "execution_count": 39,
     "metadata": {},
     "output_type": "execute_result"
    }
   ],
   "source": [
    "groups"
   ]
  },
  {
   "cell_type": "code",
   "execution_count": 40,
   "metadata": {},
   "outputs": [
    {
     "data": {
      "text/html": [
       "<div>\n",
       "<style scoped>\n",
       "    .dataframe tbody tr th:only-of-type {\n",
       "        vertical-align: middle;\n",
       "    }\n",
       "\n",
       "    .dataframe tbody tr th {\n",
       "        vertical-align: top;\n",
       "    }\n",
       "\n",
       "    .dataframe thead th {\n",
       "        text-align: right;\n",
       "    }\n",
       "</style>\n",
       "<table border=\"1\" class=\"dataframe\">\n",
       "  <thead>\n",
       "    <tr style=\"text-align: right;\">\n",
       "      <th></th>\n",
       "      <th>No1</th>\n",
       "      <th>No2</th>\n",
       "      <th>No3</th>\n",
       "      <th>No4</th>\n",
       "    </tr>\n",
       "    <tr>\n",
       "      <th>Category</th>\n",
       "      <th></th>\n",
       "      <th></th>\n",
       "      <th></th>\n",
       "      <th></th>\n",
       "    </tr>\n",
       "  </thead>\n",
       "  <tbody>\n",
       "    <tr>\n",
       "      <th>C1</th>\n",
       "      <td>0.748911</td>\n",
       "      <td>0.243222</td>\n",
       "      <td>-0.527330</td>\n",
       "      <td>-0.799862</td>\n",
       "    </tr>\n",
       "    <tr>\n",
       "      <th>C2</th>\n",
       "      <td>0.165790</td>\n",
       "      <td>-0.370907</td>\n",
       "      <td>-0.422530</td>\n",
       "      <td>0.096288</td>\n",
       "    </tr>\n",
       "    <tr>\n",
       "      <th>C3</th>\n",
       "      <td>-0.068151</td>\n",
       "      <td>0.949189</td>\n",
       "      <td>-0.179783</td>\n",
       "      <td>-1.128353</td>\n",
       "    </tr>\n",
       "  </tbody>\n",
       "</table>\n",
       "</div>"
      ],
      "text/plain": [
       "               No1       No2       No3       No4\n",
       "Category                                        \n",
       "C1        0.748911  0.243222 -0.527330 -0.799862\n",
       "C2        0.165790 -0.370907 -0.422530  0.096288\n",
       "C3       -0.068151  0.949189 -0.179783 -1.128353"
      ]
     },
     "execution_count": 40,
     "metadata": {},
     "output_type": "execute_result"
    }
   ],
   "source": [
    "groups.mean()"
   ]
  },
  {
   "cell_type": "code",
   "execution_count": null,
   "metadata": {},
   "outputs": [],
   "source": []
  }
 ],
 "metadata": {
  "anaconda-cloud": {},
  "kernelspec": {
   "display_name": "Python 3 (ipykernel)",
   "language": "python",
   "name": "python3"
  },
  "language_info": {
   "codemirror_mode": {
    "name": "ipython",
    "version": 3
   },
   "file_extension": ".py",
   "mimetype": "text/x-python",
   "name": "python",
   "nbconvert_exporter": "python",
   "pygments_lexer": "ipython3",
   "version": "3.9.7"
  }
 },
 "nbformat": 4,
 "nbformat_minor": 4
}
